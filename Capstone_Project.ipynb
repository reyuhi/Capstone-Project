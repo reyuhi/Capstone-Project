{
 "cells": [
  {
   "cell_type": "markdown",
   "metadata": {},
   "source": [
    "# Machine Learning Engineer Nanodegree\n",
    "## Capstone Project\n",
    "## Project: Porto Seguro’s Safe Driver Prediction\n",
    "### Predict if a driver will file an insurance claim next year.\n",
    "\n",
    "Kaggle Link:https://www.kaggle.com/c/porto-seguro-safe-driver-prediction"
   ]
  },
  {
   "cell_type": "markdown",
   "metadata": {
    "collapsed": true
   },
   "source": [
    "#### If the link is dead the problem description is below:\n",
    "\n",
    "Overview\n",
    "\n",
    "Nothing ruins the thrill of buying a brand new car more quickly than seeing your new insurance bill. The sting’s even more painful when you know you’re a good driver. It doesn’t seem fair that you have to pay so much if you’ve been cautious on the road for years.\n",
    "Porto Seguro, one of Brazil’s largest auto and homeowner insurance companies, completely agrees. Inaccuracies in car insurance company’s claim predictions raise the cost of insurance for good drivers and reduce the price for bad ones.\n",
    "In this competition, you’re challenged to build a model that predicts the probability that a driver will initiate an auto insurance claim in the next year. While Porto Seguro has used machine learning for the past 20 years, they’re looking to Kaggle’s machine learning community to explore new, more powerful methods. A more accurate prediction will allow them to further tailor their prices, and hopefully make auto insurance coverage more accessible to more drivers.\n",
    "\n",
    "Evaluation\n",
    "\n",
    "Scoring Metric\n",
    "Submissions are evaluated using the Normalized Gini Coefficient.\n",
    "During scoring, observations are sorted from the largest to the smallest predictions. Predictions are only used for ordering observations; therefore, the relative magnitude of the predictions are not used during scoring. The scoring algorithm then compares the cumulative proportion of positive class observations to a theoretical uniform proportion.\n",
    "The Gini Coefficient ranges from approximately 0 for random guessing, to approximately 0.5 for a perfect score. The theoretical maximum for the discrete calculation is (1 - frac_pos) / 2.\n",
    "The Normalized Gini Coefficient adjusts the score by the theoretical maximum so that the maximum score is 1.\n",
    "The code to calculate Normalized Gini Coefficient in a number of different languages can be found in this forum thread.\n",
    "\n",
    "Data Description\n",
    "\n",
    "In this competition, you will predict the probability that an auto insurance policy holder files a claim.\n",
    "In the train and test data, features that belong to similar groupings are tagged as such in the feature names (e.g., ind, reg, car, calc). In addition, feature names include the postfix bin to indicate binary features and cat to indicate categorical features. Features without these designations are either continuous or ordinal. Values of -1 indicate that the feature was missing from the observation. The target columns signifies whether or not a claim was filed for that policy holder.\n",
    "File descriptions\n",
    "\n",
    "train.csv contains the training data, where each row corresponds to a policy holder, and the target columns signifies that a claim was filed.\n",
    "\n",
    "test.csv contains the test data.\n",
    "\n",
    "sample_submission.csv is submission file showing the correct format."
   ]
  },
  {
   "cell_type": "code",
   "execution_count": 1,
   "metadata": {
    "collapsed": true
   },
   "outputs": [],
   "source": [
    "# Author: Renan Hidani\n",
    "# Udacity Capstone Machine Learning Nanodegree\n",
    "# Porto Seguro's Safe Driver Prediction Competition\n",
    "\n",
    "# Import Numpy and Pandas Library\n",
    "import numpy as np\n",
    "import pandas as pd\n",
    "\n",
    "# Import Seaborn\n",
    "import seaborn as sns\n",
    "%matplotlib inline\n",
    "\n",
    "# Pyplot\n",
    "#import matplotlib as mpl\n",
    "import matplotlib.pyplot as plt\n",
    "\n",
    "# Import Metrics\n",
    "from sklearn.metrics import classification_report, confusion_matrix, roc_auc_score\n",
    "\n",
    "# Import Library\n",
    "from sklearn.svm import SVC\n",
    "from sklearn.naive_bayes import GaussianNB\n",
    "from sklearn.ensemble import RandomForestClassifier\n",
    "from sklearn.linear_model import SGDClassifier,PassiveAggressiveClassifier\n",
    "\n",
    "# Ignore Warning\n",
    "import warnings\n",
    "warnings.filterwarnings(\"ignore\")\n",
    "\n",
    "# Features available inside train and test files\n",
    "features_train = ['id','target','ps_ind_01','ps_ind_02_cat','ps_ind_03','ps_ind_04_cat','ps_ind_05_cat','ps_ind_06_bin','ps_ind_07_bin','ps_ind_08_bin','ps_ind_09_bin','ps_ind_10_bin','ps_ind_11_bin','ps_ind_12_bin','ps_ind_13_bin','ps_ind_14','ps_ind_15','ps_ind_16_bin','ps_ind_17_bin','ps_ind_18_bin','ps_reg_01','ps_reg_02','ps_reg_03','ps_car_01_cat','ps_car_02_cat','ps_car_03_cat','ps_car_04_cat','ps_car_05_cat','ps_car_06_cat','ps_car_07_cat','ps_car_08_cat','ps_car_09_cat','ps_car_10_cat','ps_car_11_cat','ps_car_11','ps_car_12','ps_car_13','ps_car_14','ps_car_15','ps_calc_01','ps_calc_02','ps_calc_03','ps_calc_04','ps_calc_05','ps_calc_06','ps_calc_07','ps_calc_08','ps_calc_09','ps_calc_10','ps_calc_11','ps_calc_12','ps_calc_13','ps_calc_14','ps_calc_15_bin','ps_calc_16_bin','ps_calc_17_bin','ps_calc_18_bin','ps_calc_19_bin','ps_calc_20_bin']\n",
    "features_test = ['id','ps_ind_01','ps_ind_02_cat','ps_ind_03','ps_ind_04_cat','ps_ind_05_cat','ps_ind_06_bin','ps_ind_07_bin','ps_ind_08_bin','ps_ind_09_bin','ps_ind_10_bin','ps_ind_11_bin','ps_ind_12_bin','ps_ind_13_bin','ps_ind_14','ps_ind_15','ps_ind_16_bin','ps_ind_17_bin','ps_ind_18_bin','ps_reg_01','ps_reg_02','ps_reg_03','ps_car_01_cat','ps_car_02_cat','ps_car_03_cat','ps_car_04_cat','ps_car_05_cat','ps_car_06_cat','ps_car_07_cat','ps_car_08_cat','ps_car_09_cat','ps_car_10_cat','ps_car_11_cat','ps_car_11','ps_car_12','ps_car_13','ps_car_14','ps_car_15','ps_calc_01','ps_calc_02','ps_calc_03','ps_calc_04','ps_calc_05','ps_calc_06','ps_calc_07','ps_calc_08','ps_calc_09','ps_calc_10','ps_calc_11','ps_calc_12','ps_calc_13','ps_calc_14','ps_calc_15_bin','ps_calc_16_bin','ps_calc_17_bin','ps_calc_18_bin','ps_calc_19_bin','ps_calc_20_bin']\n",
    "\n",
    "# Import Data, identify the missing values as nan\n",
    "train_data = pd.read_csv('train.csv',na_values = -1)\n",
    "test_data = pd.read_csv('test.csv', na_values = -1)"
   ]
  },
  {
   "cell_type": "code",
   "execution_count": 2,
   "metadata": {},
   "outputs": [
    {
     "data": {
      "text/html": [
       "<div>\n",
       "<style>\n",
       "    .dataframe thead tr:only-child th {\n",
       "        text-align: right;\n",
       "    }\n",
       "\n",
       "    .dataframe thead th {\n",
       "        text-align: left;\n",
       "    }\n",
       "\n",
       "    .dataframe tbody tr th {\n",
       "        vertical-align: top;\n",
       "    }\n",
       "</style>\n",
       "<table border=\"1\" class=\"dataframe\">\n",
       "  <thead>\n",
       "    <tr style=\"text-align: right;\">\n",
       "      <th></th>\n",
       "      <th>id</th>\n",
       "      <th>target</th>\n",
       "      <th>ps_ind_01</th>\n",
       "      <th>ps_ind_02_cat</th>\n",
       "      <th>ps_ind_03</th>\n",
       "      <th>ps_ind_04_cat</th>\n",
       "      <th>ps_ind_05_cat</th>\n",
       "      <th>ps_ind_06_bin</th>\n",
       "      <th>ps_ind_07_bin</th>\n",
       "      <th>ps_ind_08_bin</th>\n",
       "      <th>...</th>\n",
       "      <th>ps_calc_11</th>\n",
       "      <th>ps_calc_12</th>\n",
       "      <th>ps_calc_13</th>\n",
       "      <th>ps_calc_14</th>\n",
       "      <th>ps_calc_15_bin</th>\n",
       "      <th>ps_calc_16_bin</th>\n",
       "      <th>ps_calc_17_bin</th>\n",
       "      <th>ps_calc_18_bin</th>\n",
       "      <th>ps_calc_19_bin</th>\n",
       "      <th>ps_calc_20_bin</th>\n",
       "    </tr>\n",
       "  </thead>\n",
       "  <tbody>\n",
       "    <tr>\n",
       "      <th>0</th>\n",
       "      <td>7</td>\n",
       "      <td>0</td>\n",
       "      <td>2</td>\n",
       "      <td>2.0</td>\n",
       "      <td>5</td>\n",
       "      <td>1.0</td>\n",
       "      <td>0.0</td>\n",
       "      <td>0</td>\n",
       "      <td>1</td>\n",
       "      <td>0</td>\n",
       "      <td>...</td>\n",
       "      <td>9</td>\n",
       "      <td>1</td>\n",
       "      <td>5</td>\n",
       "      <td>8</td>\n",
       "      <td>0</td>\n",
       "      <td>1</td>\n",
       "      <td>1</td>\n",
       "      <td>0</td>\n",
       "      <td>0</td>\n",
       "      <td>1</td>\n",
       "    </tr>\n",
       "    <tr>\n",
       "      <th>1</th>\n",
       "      <td>9</td>\n",
       "      <td>0</td>\n",
       "      <td>1</td>\n",
       "      <td>1.0</td>\n",
       "      <td>7</td>\n",
       "      <td>0.0</td>\n",
       "      <td>0.0</td>\n",
       "      <td>0</td>\n",
       "      <td>0</td>\n",
       "      <td>1</td>\n",
       "      <td>...</td>\n",
       "      <td>3</td>\n",
       "      <td>1</td>\n",
       "      <td>1</td>\n",
       "      <td>9</td>\n",
       "      <td>0</td>\n",
       "      <td>1</td>\n",
       "      <td>1</td>\n",
       "      <td>0</td>\n",
       "      <td>1</td>\n",
       "      <td>0</td>\n",
       "    </tr>\n",
       "    <tr>\n",
       "      <th>2</th>\n",
       "      <td>13</td>\n",
       "      <td>0</td>\n",
       "      <td>5</td>\n",
       "      <td>4.0</td>\n",
       "      <td>9</td>\n",
       "      <td>1.0</td>\n",
       "      <td>0.0</td>\n",
       "      <td>0</td>\n",
       "      <td>0</td>\n",
       "      <td>1</td>\n",
       "      <td>...</td>\n",
       "      <td>4</td>\n",
       "      <td>2</td>\n",
       "      <td>7</td>\n",
       "      <td>7</td>\n",
       "      <td>0</td>\n",
       "      <td>1</td>\n",
       "      <td>1</td>\n",
       "      <td>0</td>\n",
       "      <td>1</td>\n",
       "      <td>0</td>\n",
       "    </tr>\n",
       "    <tr>\n",
       "      <th>3</th>\n",
       "      <td>16</td>\n",
       "      <td>0</td>\n",
       "      <td>0</td>\n",
       "      <td>1.0</td>\n",
       "      <td>2</td>\n",
       "      <td>0.0</td>\n",
       "      <td>0.0</td>\n",
       "      <td>1</td>\n",
       "      <td>0</td>\n",
       "      <td>0</td>\n",
       "      <td>...</td>\n",
       "      <td>2</td>\n",
       "      <td>2</td>\n",
       "      <td>4</td>\n",
       "      <td>9</td>\n",
       "      <td>0</td>\n",
       "      <td>0</td>\n",
       "      <td>0</td>\n",
       "      <td>0</td>\n",
       "      <td>0</td>\n",
       "      <td>0</td>\n",
       "    </tr>\n",
       "    <tr>\n",
       "      <th>4</th>\n",
       "      <td>17</td>\n",
       "      <td>0</td>\n",
       "      <td>0</td>\n",
       "      <td>2.0</td>\n",
       "      <td>0</td>\n",
       "      <td>1.0</td>\n",
       "      <td>0.0</td>\n",
       "      <td>1</td>\n",
       "      <td>0</td>\n",
       "      <td>0</td>\n",
       "      <td>...</td>\n",
       "      <td>3</td>\n",
       "      <td>1</td>\n",
       "      <td>1</td>\n",
       "      <td>3</td>\n",
       "      <td>0</td>\n",
       "      <td>0</td>\n",
       "      <td>0</td>\n",
       "      <td>1</td>\n",
       "      <td>1</td>\n",
       "      <td>0</td>\n",
       "    </tr>\n",
       "  </tbody>\n",
       "</table>\n",
       "<p>5 rows × 59 columns</p>\n",
       "</div>"
      ],
      "text/plain": [
       "   id  target  ps_ind_01  ps_ind_02_cat  ps_ind_03  ps_ind_04_cat  \\\n",
       "0   7       0          2            2.0          5            1.0   \n",
       "1   9       0          1            1.0          7            0.0   \n",
       "2  13       0          5            4.0          9            1.0   \n",
       "3  16       0          0            1.0          2            0.0   \n",
       "4  17       0          0            2.0          0            1.0   \n",
       "\n",
       "   ps_ind_05_cat  ps_ind_06_bin  ps_ind_07_bin  ps_ind_08_bin       ...        \\\n",
       "0            0.0              0              1              0       ...         \n",
       "1            0.0              0              0              1       ...         \n",
       "2            0.0              0              0              1       ...         \n",
       "3            0.0              1              0              0       ...         \n",
       "4            0.0              1              0              0       ...         \n",
       "\n",
       "   ps_calc_11  ps_calc_12  ps_calc_13  ps_calc_14  ps_calc_15_bin  \\\n",
       "0           9           1           5           8               0   \n",
       "1           3           1           1           9               0   \n",
       "2           4           2           7           7               0   \n",
       "3           2           2           4           9               0   \n",
       "4           3           1           1           3               0   \n",
       "\n",
       "   ps_calc_16_bin  ps_calc_17_bin  ps_calc_18_bin  ps_calc_19_bin  \\\n",
       "0               1               1               0               0   \n",
       "1               1               1               0               1   \n",
       "2               1               1               0               1   \n",
       "3               0               0               0               0   \n",
       "4               0               0               1               1   \n",
       "\n",
       "   ps_calc_20_bin  \n",
       "0               1  \n",
       "1               0  \n",
       "2               0  \n",
       "3               0  \n",
       "4               0  \n",
       "\n",
       "[5 rows x 59 columns]"
      ]
     },
     "execution_count": 2,
     "metadata": {},
     "output_type": "execute_result"
    }
   ],
   "source": [
    "train_data.head()"
   ]
  },
  {
   "cell_type": "code",
   "execution_count": 3,
   "metadata": {
    "collapsed": true
   },
   "outputs": [],
   "source": [
    "# Get the ID Column for train and test data\n",
    "train_id = train_data[['id']]\n",
    "test_id = test_data[['id']]\n",
    "\n",
    "# Get the target Column for train data\n",
    "train_target = train_data[['target']]"
   ]
  },
  {
   "cell_type": "markdown",
   "metadata": {
    "collapsed": true
   },
   "source": [
    "## Bar Plot\n",
    "\n",
    "Bar Graph below shows target feature and number of events\n",
    "\n",
    "Number of Events (0) is ** 573.518 ** and number of Events (1) is ** 21,694 **\n",
    "\n",
    "The ratio for target 1 is ** 1:26,4 ** approximately\n",
    "\n",
    "This means that target value is _unbalanced_."
   ]
  },
  {
   "cell_type": "code",
   "execution_count": 4,
   "metadata": {},
   "outputs": [
    {
     "data": {
      "text/plain": [
       "<matplotlib.axes._subplots.AxesSubplot at 0xf389080>"
      ]
     },
     "execution_count": 4,
     "metadata": {},
     "output_type": "execute_result"
    },
    {
     "data": {
      "image/png": "[encoded data removed]",
      "text/plain": [
       "<matplotlib.figure.Figure at 0xf389748>"
      ]
     },
     "metadata": {},
     "output_type": "display_data"
    }
   ],
   "source": [
    "# Bar Graph\n",
    "sns.countplot( x='target', data=train_data, palette=\"Greens_d\")"
   ]
  },
  {
   "cell_type": "markdown",
   "metadata": {},
   "source": [
    "## Visualizing Histogram Plot\n",
    "\n",
    "It can be seen that some data are binary and others are categorical.\n",
    "\n",
    "The designed name of each feature shows this property.\n",
    "\n",
    "Every feature that have _bin, it means it's a binary feature.\n",
    "\n",
    "Feature with _cat, means a categorical feature."
   ]
  },
  {
   "cell_type": "code",
   "execution_count": 5,
   "metadata": {},
   "outputs": [
    {
     "data": {
      "text/plain": [
       "array([[<matplotlib.axes._subplots.AxesSubplot object at 0x00000000251E5A58>,\n",
       "        <matplotlib.axes._subplots.AxesSubplot object at 0x000000001278A208>,\n",
       "        <matplotlib.axes._subplots.AxesSubplot object at 0x0000000022166D68>,\n",
       "        <matplotlib.axes._subplots.AxesSubplot object at 0x000000002218D9E8>,\n",
       "        <matplotlib.axes._subplots.AxesSubplot object at 0x000000001B8F36D8>,\n",
       "        <matplotlib.axes._subplots.AxesSubplot object at 0x0000000017906908>,\n",
       "        <matplotlib.axes._subplots.AxesSubplot object at 0x0000000026168978>,\n",
       "        <matplotlib.axes._subplots.AxesSubplot object at 0x0000000026FFC0B8>],\n",
       "       [<matplotlib.axes._subplots.AxesSubplot object at 0x0000000029495208>,\n",
       "        <matplotlib.axes._subplots.AxesSubplot object at 0x0000000029C01E48>,\n",
       "        <matplotlib.axes._subplots.AxesSubplot object at 0x000000002A34C208>,\n",
       "        <matplotlib.axes._subplots.AxesSubplot object at 0x000000002AAC7358>,\n",
       "        <matplotlib.axes._subplots.AxesSubplot object at 0x000000002B208F98>,\n",
       "        <matplotlib.axes._subplots.AxesSubplot object at 0x000000002C0C7B38>,\n",
       "        <matplotlib.axes._subplots.AxesSubplot object at 0x000000001A8CB3C8>,\n",
       "        <matplotlib.axes._subplots.AxesSubplot object at 0x0000000028D1FA90>],\n",
       "       [<matplotlib.axes._subplots.AxesSubplot object at 0x0000000028D89CF8>,\n",
       "        <matplotlib.axes._subplots.AxesSubplot object at 0x0000000019C58898>,\n",
       "        <matplotlib.axes._subplots.AxesSubplot object at 0x0000000019C7B3C8>,\n",
       "        <matplotlib.axes._subplots.AxesSubplot object at 0x00000000191BFC88>,\n",
       "        <matplotlib.axes._subplots.AxesSubplot object at 0x000000001F1CAC18>,\n",
       "        <matplotlib.axes._subplots.AxesSubplot object at 0x000000001F1F0860>,\n",
       "        <matplotlib.axes._subplots.AxesSubplot object at 0x000000001A87B4A8>,\n",
       "        <matplotlib.axes._subplots.AxesSubplot object at 0x0000000022653908>],\n",
       "       [<matplotlib.axes._subplots.AxesSubplot object at 0x000000001500B588>,\n",
       "        <matplotlib.axes._subplots.AxesSubplot object at 0x0000000013D5A6D8>,\n",
       "        <matplotlib.axes._subplots.AxesSubplot object at 0x000000002572A358>,\n",
       "        <matplotlib.axes._subplots.AxesSubplot object at 0x0000000025A0E630>,\n",
       "        <matplotlib.axes._subplots.AxesSubplot object at 0x00000000217F1208>,\n",
       "        <matplotlib.axes._subplots.AxesSubplot object at 0x000000001AFDB3C8>,\n",
       "        <matplotlib.axes._subplots.AxesSubplot object at 0x000000001D76B048>,\n",
       "        <matplotlib.axes._subplots.AxesSubplot object at 0x000000001A237C18>],\n",
       "       [<matplotlib.axes._subplots.AxesSubplot object at 0x000000002032FE48>,\n",
       "        <matplotlib.axes._subplots.AxesSubplot object at 0x00000000184BFF98>,\n",
       "        <matplotlib.axes._subplots.AxesSubplot object at 0x00000000195E0C18>,\n",
       "        <matplotlib.axes._subplots.AxesSubplot object at 0x000000001295B828>,\n",
       "        <matplotlib.axes._subplots.AxesSubplot object at 0x00000000129A3048>,\n",
       "        <matplotlib.axes._subplots.AxesSubplot object at 0x00000000129C65F8>,\n",
       "        <matplotlib.axes._subplots.AxesSubplot object at 0x000000002479C978>,\n",
       "        <matplotlib.axes._subplots.AxesSubplot object at 0x0000000020F4E5F8>],\n",
       "       [<matplotlib.axes._subplots.AxesSubplot object at 0x0000000020F25860>,\n",
       "        <matplotlib.axes._subplots.AxesSubplot object at 0x000000001BB54A58>,\n",
       "        <matplotlib.axes._subplots.AxesSubplot object at 0x0000000021E356D8>,\n",
       "        <matplotlib.axes._subplots.AxesSubplot object at 0x000000000F3BF2E8>,\n",
       "        <matplotlib.axes._subplots.AxesSubplot object at 0x000000000F44C4A8>,\n",
       "        <matplotlib.axes._subplots.AxesSubplot object at 0x0000000025256668>,\n",
       "        <matplotlib.axes._subplots.AxesSubplot object at 0x000000001FB34278>,\n",
       "        <matplotlib.axes._subplots.AxesSubplot object at 0x0000000023F2DEB8>],\n",
       "       [<matplotlib.axes._subplots.AxesSubplot object at 0x0000000022E020B8>,\n",
       "        <matplotlib.axes._subplots.AxesSubplot object at 0x0000000018C27198>,\n",
       "        <matplotlib.axes._subplots.AxesSubplot object at 0x0000000023C02D68>,\n",
       "        <matplotlib.axes._subplots.AxesSubplot object at 0x0000000014DE59E8>,\n",
       "        <matplotlib.axes._subplots.AxesSubplot object at 0x0000000014E30BA8>,\n",
       "        <matplotlib.axes._subplots.AxesSubplot object at 0x0000000014E40F60>,\n",
       "        <matplotlib.axes._subplots.AxesSubplot object at 0x0000000019B71048>,\n",
       "        <matplotlib.axes._subplots.AxesSubplot object at 0x00000000266A2C88>],\n",
       "       [<matplotlib.axes._subplots.AxesSubplot object at 0x0000000026732898>,\n",
       "        <matplotlib.axes._subplots.AxesSubplot object at 0x000000001AF2EA58>,\n",
       "        <matplotlib.axes._subplots.AxesSubplot object at 0x000000001305B9E8>,\n",
       "        <matplotlib.axes._subplots.AxesSubplot object at 0x0000000013E055F8>,\n",
       "        <matplotlib.axes._subplots.AxesSubplot object at 0x0000000013E94278>,\n",
       "        <matplotlib.axes._subplots.AxesSubplot object at 0x000000001B0913C8>,\n",
       "        <matplotlib.axes._subplots.AxesSubplot object at 0x000000001B0A0748>,\n",
       "        <matplotlib.axes._subplots.AxesSubplot object at 0x000000002681A2E8>]], dtype=object)"
      ]
     },
     "execution_count": 5,
     "metadata": {},
     "output_type": "execute_result"
    },
    {
     "data": {
      "image/png": "[encoded data removed]",
      "text/plain": [
       "<matplotlib.figure.Figure at 0x13f25438>"
      ]
     },
     "metadata": {},
     "output_type": "display_data"
    }
   ],
   "source": [
    "# Histogram Plot\n",
    "train_data.hist(grid = False,figsize=(30, 30))"
   ]
  },
  {
   "cell_type": "markdown",
   "metadata": {},
   "source": [
    "## Checking Data Type\n",
    "\n",
    "* 39 int64\n",
    "\n",
    "* 20 float64"
   ]
  },
  {
   "cell_type": "code",
   "execution_count": 6,
   "metadata": {},
   "outputs": [
    {
     "data": {
      "text/plain": [
       "id                  int64\n",
       "target              int64\n",
       "ps_ind_01           int64\n",
       "ps_ind_02_cat     float64\n",
       "ps_ind_03           int64\n",
       "ps_ind_04_cat     float64\n",
       "ps_ind_05_cat     float64\n",
       "ps_ind_06_bin       int64\n",
       "ps_ind_07_bin       int64\n",
       "ps_ind_08_bin       int64\n",
       "ps_ind_09_bin       int64\n",
       "ps_ind_10_bin       int64\n",
       "ps_ind_11_bin       int64\n",
       "ps_ind_12_bin       int64\n",
       "ps_ind_13_bin       int64\n",
       "ps_ind_14           int64\n",
       "ps_ind_15           int64\n",
       "ps_ind_16_bin       int64\n",
       "ps_ind_17_bin       int64\n",
       "ps_ind_18_bin       int64\n",
       "ps_reg_01         float64\n",
       "ps_reg_02         float64\n",
       "ps_reg_03         float64\n",
       "ps_car_01_cat     float64\n",
       "ps_car_02_cat     float64\n",
       "ps_car_03_cat     float64\n",
       "ps_car_04_cat       int64\n",
       "ps_car_05_cat     float64\n",
       "ps_car_06_cat       int64\n",
       "ps_car_07_cat     float64\n",
       "ps_car_08_cat       int64\n",
       "ps_car_09_cat     float64\n",
       "ps_car_10_cat       int64\n",
       "ps_car_11_cat       int64\n",
       "ps_car_11         float64\n",
       "ps_car_12         float64\n",
       "ps_car_13         float64\n",
       "ps_car_14         float64\n",
       "ps_car_15         float64\n",
       "ps_calc_01        float64\n",
       "ps_calc_02        float64\n",
       "ps_calc_03        float64\n",
       "ps_calc_04          int64\n",
       "ps_calc_05          int64\n",
       "ps_calc_06          int64\n",
       "ps_calc_07          int64\n",
       "ps_calc_08          int64\n",
       "ps_calc_09          int64\n",
       "ps_calc_10          int64\n",
       "ps_calc_11          int64\n",
       "ps_calc_12          int64\n",
       "ps_calc_13          int64\n",
       "ps_calc_14          int64\n",
       "ps_calc_15_bin      int64\n",
       "ps_calc_16_bin      int64\n",
       "ps_calc_17_bin      int64\n",
       "ps_calc_18_bin      int64\n",
       "ps_calc_19_bin      int64\n",
       "ps_calc_20_bin      int64\n",
       "dtype: object"
      ]
     },
     "execution_count": 6,
     "metadata": {},
     "output_type": "execute_result"
    }
   ],
   "source": [
    "#Check Data Type\n",
    "train_data.dtypes"
   ]
  },
  {
   "cell_type": "markdown",
   "metadata": {},
   "source": [
    "## Checking Missing Values\n",
    "\n",
    "* 13 features have missing values"
   ]
  },
  {
   "cell_type": "code",
   "execution_count": 7,
   "metadata": {},
   "outputs": [
    {
     "data": {
      "text/plain": [
       "id                False\n",
       "target            False\n",
       "ps_ind_01         False\n",
       "ps_ind_02_cat      True\n",
       "ps_ind_03         False\n",
       "ps_ind_04_cat      True\n",
       "ps_ind_05_cat      True\n",
       "ps_ind_06_bin     False\n",
       "ps_ind_07_bin     False\n",
       "ps_ind_08_bin     False\n",
       "ps_ind_09_bin     False\n",
       "ps_ind_10_bin     False\n",
       "ps_ind_11_bin     False\n",
       "ps_ind_12_bin     False\n",
       "ps_ind_13_bin     False\n",
       "ps_ind_14         False\n",
       "ps_ind_15         False\n",
       "ps_ind_16_bin     False\n",
       "ps_ind_17_bin     False\n",
       "ps_ind_18_bin     False\n",
       "ps_reg_01         False\n",
       "ps_reg_02         False\n",
       "ps_reg_03          True\n",
       "ps_car_01_cat      True\n",
       "ps_car_02_cat      True\n",
       "ps_car_03_cat      True\n",
       "ps_car_04_cat     False\n",
       "ps_car_05_cat      True\n",
       "ps_car_06_cat     False\n",
       "ps_car_07_cat      True\n",
       "ps_car_08_cat     False\n",
       "ps_car_09_cat      True\n",
       "ps_car_10_cat     False\n",
       "ps_car_11_cat     False\n",
       "ps_car_11          True\n",
       "ps_car_12          True\n",
       "ps_car_13         False\n",
       "ps_car_14          True\n",
       "ps_car_15         False\n",
       "ps_calc_01        False\n",
       "ps_calc_02        False\n",
       "ps_calc_03        False\n",
       "ps_calc_04        False\n",
       "ps_calc_05        False\n",
       "ps_calc_06        False\n",
       "ps_calc_07        False\n",
       "ps_calc_08        False\n",
       "ps_calc_09        False\n",
       "ps_calc_10        False\n",
       "ps_calc_11        False\n",
       "ps_calc_12        False\n",
       "ps_calc_13        False\n",
       "ps_calc_14        False\n",
       "ps_calc_15_bin    False\n",
       "ps_calc_16_bin    False\n",
       "ps_calc_17_bin    False\n",
       "ps_calc_18_bin    False\n",
       "ps_calc_19_bin    False\n",
       "ps_calc_20_bin    False\n",
       "dtype: bool"
      ]
     },
     "execution_count": 7,
     "metadata": {},
     "output_type": "execute_result"
    }
   ],
   "source": [
    "# Check for Missing Values\n",
    "train_data.isnull().any()"
   ]
  },
  {
   "cell_type": "code",
   "execution_count": 8,
   "metadata": {},
   "outputs": [
    {
     "data": {
      "text/plain": [
       "id                     0\n",
       "target                 0\n",
       "ps_ind_01              0\n",
       "ps_ind_02_cat        216\n",
       "ps_ind_03              0\n",
       "ps_ind_04_cat         83\n",
       "ps_ind_05_cat       5809\n",
       "ps_ind_06_bin          0\n",
       "ps_ind_07_bin          0\n",
       "ps_ind_08_bin          0\n",
       "ps_ind_09_bin          0\n",
       "ps_ind_10_bin          0\n",
       "ps_ind_11_bin          0\n",
       "ps_ind_12_bin          0\n",
       "ps_ind_13_bin          0\n",
       "ps_ind_14              0\n",
       "ps_ind_15              0\n",
       "ps_ind_16_bin          0\n",
       "ps_ind_17_bin          0\n",
       "ps_ind_18_bin          0\n",
       "ps_reg_01              0\n",
       "ps_reg_02              0\n",
       "ps_reg_03         107772\n",
       "ps_car_01_cat        107\n",
       "ps_car_02_cat          5\n",
       "ps_car_03_cat     411231\n",
       "ps_car_04_cat          0\n",
       "ps_car_05_cat     266551\n",
       "ps_car_06_cat          0\n",
       "ps_car_07_cat      11489\n",
       "ps_car_08_cat          0\n",
       "ps_car_09_cat        569\n",
       "ps_car_10_cat          0\n",
       "ps_car_11_cat          0\n",
       "ps_car_11              5\n",
       "ps_car_12              1\n",
       "ps_car_13              0\n",
       "ps_car_14          42620\n",
       "ps_car_15              0\n",
       "ps_calc_01             0\n",
       "ps_calc_02             0\n",
       "ps_calc_03             0\n",
       "ps_calc_04             0\n",
       "ps_calc_05             0\n",
       "ps_calc_06             0\n",
       "ps_calc_07             0\n",
       "ps_calc_08             0\n",
       "ps_calc_09             0\n",
       "ps_calc_10             0\n",
       "ps_calc_11             0\n",
       "ps_calc_12             0\n",
       "ps_calc_13             0\n",
       "ps_calc_14             0\n",
       "ps_calc_15_bin         0\n",
       "ps_calc_16_bin         0\n",
       "ps_calc_17_bin         0\n",
       "ps_calc_18_bin         0\n",
       "ps_calc_19_bin         0\n",
       "ps_calc_20_bin         0\n",
       "dtype: int64"
      ]
     },
     "execution_count": 8,
     "metadata": {},
     "output_type": "execute_result"
    }
   ],
   "source": [
    "# Count Amount of missing values in each feature\n",
    "train_data.isnull().sum()"
   ]
  },
  {
   "cell_type": "markdown",
   "metadata": {},
   "source": [
    "## Visualizing Missing Data with Missingno\n",
    "\n",
    "3 features have many values missing:\n",
    "\n",
    "* ps_reg_03\n",
    "* ps_car_03_cat\n",
    "* ps_car_05_cat\n",
    "\n",
    "How to interprete the Missingno plot:\n",
    "\n",
    "* Gray Lines means no missing value\n",
    "* White Lines means missing value"
   ]
  },
  {
   "cell_type": "code",
   "execution_count": 9,
   "metadata": {},
   "outputs": [
    {
     "data": {
      "image/png": "[encoded data removed]",
      "text/plain": [
       "<matplotlib.figure.Figure at 0xf6d78d0>"
      ]
     },
     "metadata": {},
     "output_type": "display_data"
    }
   ],
   "source": [
    "# Visualize Missing Data\n",
    "# Import missingno library\n",
    "import missingno as msno\n",
    "\n",
    "msno.matrix(train_data, figsize = (15,10),fontsize = 9, labels = True)"
   ]
  },
  {
   "cell_type": "markdown",
   "metadata": {},
   "source": [
    "## Correlation Plot\n",
    "\n",
    "Shows _correlation_ between features.\n",
    "\n",
    "It has been used the Seaborn library instead of the plt library"
   ]
  },
  {
   "cell_type": "code",
   "execution_count": 10,
   "metadata": {},
   "outputs": [
    {
     "data": {
      "text/plain": [
       "<matplotlib.axes._subplots.AxesSubplot at 0x21970be0>"
      ]
     },
     "execution_count": 10,
     "metadata": {},
     "output_type": "execute_result"
    },
    {
     "data": {
      "image/png": "[encoded data removed]",
      "text/plain": [
       "<matplotlib.figure.Figure at 0xf594630>"
      ]
     },
     "metadata": {},
     "output_type": "display_data"
    }
   ],
   "source": [
    "# Correlation Plot\n",
    "#plt.matshow(train_data.corr() - Not good for visualization\n",
    "sns.set(style=\"white\")\n",
    "# Compute the correlation matrix\n",
    "corr = train_data.corr()\n",
    "# Generate a mask for the upper triangle\n",
    "mask = np.zeros_like(corr, dtype=np.bool)\n",
    "mask[np.triu_indices_from(mask)] = True\n",
    "# Set up the matplotlib figure\n",
    "f, ax = plt.subplots(figsize=(15, 9))\n",
    "# Generate a custom diverging colormap\n",
    "cmap = sns.diverging_palette(220, 10, as_cmap=True)\n",
    "# Draw the heatmap with the mask and correct aspect ratio\n",
    "sns.heatmap(corr, mask=mask, cmap=cmap, vmax=.3, center=0, square=True, linewidths=.5, cbar_kws={\"shrink\": .5})"
   ]
  },
  {
   "cell_type": "markdown",
   "metadata": {},
   "source": [
    "## Dendrogram\n",
    "\n",
    "The dendrogram is more visual friendly to check the correlation between data."
   ]
  },
  {
   "cell_type": "code",
   "execution_count": 11,
   "metadata": {},
   "outputs": [
    {
     "data": {
      "image/png": "[encoded data removed]",
      "text/plain": [
       "<matplotlib.figure.Figure at 0x24a7bda0>"
      ]
     },
     "metadata": {},
     "output_type": "display_data"
    }
   ],
   "source": [
    "# Dendogram\n",
    "msno.dendrogram(train_data)"
   ]
  },
  {
   "cell_type": "markdown",
   "metadata": {},
   "source": [
    "## Removing Rows with nan Values"
   ]
  },
  {
   "cell_type": "code",
   "execution_count": 12,
   "metadata": {
    "collapsed": true
   },
   "outputs": [],
   "source": [
    "# Remove nan Features (-1)\n",
    "train_data_clean = train_data.dropna()\n",
    "test_data_clean = test_data.dropna()"
   ]
  },
  {
   "cell_type": "markdown",
   "metadata": {},
   "source": [
    "## Counting the amount of missing records with and withou nan values"
   ]
  },
  {
   "cell_type": "code",
   "execution_count": 13,
   "metadata": {},
   "outputs": [
    {
     "data": {
      "text/plain": [
       "595212"
      ]
     },
     "execution_count": 13,
     "metadata": {},
     "output_type": "execute_result"
    }
   ],
   "source": [
    "# Amount of Rows lost after Removing Nan Features in Rows\n",
    "len(train_data.index)"
   ]
  },
  {
   "cell_type": "code",
   "execution_count": 14,
   "metadata": {},
   "outputs": [
    {
     "data": {
      "text/plain": [
       "124931"
      ]
     },
     "execution_count": 14,
     "metadata": {},
     "output_type": "execute_result"
    }
   ],
   "source": [
    "len(train_data_clean.index)"
   ]
  },
  {
   "cell_type": "code",
   "execution_count": 15,
   "metadata": {},
   "outputs": [
    {
     "data": {
      "text/plain": [
       "'Percentage of Rows without missing values:20.0%'"
      ]
     },
     "execution_count": 15,
     "metadata": {},
     "output_type": "execute_result"
    }
   ],
   "source": [
    "\"Percentage of Rows without missing values:\" \"{0:.1f}%\".format(len(train_data_clean.index)*100/len(train_data.index))"
   ]
  },
  {
   "cell_type": "markdown",
   "metadata": {},
   "source": [
    "## Choosing nan to load\n",
    "\n",
    "**False** - Nan values are not considered for training\n",
    "\n",
    "**True** - Nan values are considered for training"
   ]
  },
  {
   "cell_type": "code",
   "execution_count": 16,
   "metadata": {
    "collapsed": true
   },
   "outputs": [],
   "source": [
    "# Test algorithms with Nan Values\n",
    "val_nan = False"
   ]
  },
  {
   "cell_type": "markdown",
   "metadata": {},
   "source": [
    "## Applying SMOTE - Synthetic Minority Over-sampling Technique"
   ]
  },
  {
   "cell_type": "code",
   "execution_count": 17,
   "metadata": {
    "collapsed": true
   },
   "outputs": [],
   "source": [
    "# Import SMOTE to balance data\n",
    "from imblearn.over_sampling import SMOTE"
   ]
  },
  {
   "cell_type": "code",
   "execution_count": 18,
   "metadata": {
    "collapsed": true
   },
   "outputs": [],
   "source": [
    "# Import Train Test Split Library\n",
    "from sklearn.model_selection import train_test_split\n",
    "\n",
    "train_data_sm = train_data_clean.drop(['id','target'],axis =1)\n",
    "train_target_sm = train_data_clean[['target']]\n",
    "\n",
    "x_train, x_val, y_train, y_val = train_test_split(train_data_sm, train_target_sm, test_size = .1, random_state = 12)"
   ]
  },
  {
   "cell_type": "code",
   "execution_count": 19,
   "metadata": {
    "collapsed": true
   },
   "outputs": [],
   "source": [
    "# Balance Data with Over-sampling\n",
    "sm = SMOTE(ratio='auto', random_state=42, k=None, k_neighbors=5, m=None, m_neighbors=10, out_step=0.5, kind='regular', svm_estimator=None, n_jobs=1)\n",
    "x_train_data_balanced,y_train_data_balanced = sm.fit_sample(x_train, y_train.values.ravel())"
   ]
  },
  {
   "cell_type": "markdown",
   "metadata": {},
   "source": [
    "## Checking New Balanced Data"
   ]
  },
  {
   "cell_type": "markdown",
   "metadata": {},
   "source": [
    "The new balanced datas have 214730 rows _x_train and y_train_.\n",
    "\n",
    "x_train_data_balanced has the following:\n",
    "\n",
    "* 57 Features, all features from train_data without ID and Target\n",
    "\n",
    "y_train_data_balanced has the following:\n",
    "\n",
    "* 1 Features, with just Target Balanced"
   ]
  },
  {
   "cell_type": "code",
   "execution_count": 20,
   "metadata": {},
   "outputs": [
    {
     "data": {
      "text/plain": [
       "(214730L, 57L)"
      ]
     },
     "execution_count": 20,
     "metadata": {},
     "output_type": "execute_result"
    }
   ],
   "source": [
    "# Testing Information Only with Balanced Data\n",
    "x_train_data_balanced.shape"
   ]
  },
  {
   "cell_type": "code",
   "execution_count": 21,
   "metadata": {},
   "outputs": [
    {
     "data": {
      "text/plain": [
       "(214730L,)"
      ]
     },
     "execution_count": 21,
     "metadata": {},
     "output_type": "execute_result"
    }
   ],
   "source": [
    "y_train_data_balanced.shape"
   ]
  },
  {
   "cell_type": "markdown",
   "metadata": {},
   "source": [
    "## IF condition to run GaussianNB, SVC, SGDClassifier, RandomForestClassifier(Only on available on capstone.py)\n",
    "\n",
    "\n",
    "**False** - Don't run these 4 techniques with balanced data\n",
    "\n",
    "**True** - Run these 4 techniques with balanced data"
   ]
  },
  {
   "cell_type": "code",
   "execution_count": 22,
   "metadata": {
    "collapsed": true
   },
   "outputs": [],
   "source": [
    "# Practice your Balanced Data\n",
    "practicedata = False"
   ]
  },
  {
   "cell_type": "markdown",
   "metadata": {},
   "source": [
    "## Naive Bayes with Balanced Data"
   ]
  },
  {
   "cell_type": "code",
   "execution_count": 23,
   "metadata": {
    "collapsed": true
   },
   "outputs": [],
   "source": [
    "# Balanced Dataset\n",
    "\n",
    "# Naive Bayes with Balanced Data\n",
    "clf_balanced_GaussianNB = GaussianNB()\n",
    "clf_balanced_GaussianNB.fit(x_train_data_balanced,y_train_data_balanced)\n",
    "y_predict_GaussianNB = clf_balanced_GaussianNB.predict(x_val)\n",
    "y_true_GaussianNB = y_val"
   ]
  },
  {
   "cell_type": "code",
   "execution_count": 24,
   "metadata": {},
   "outputs": [
    {
     "name": "stdout",
     "output_type": "stream",
     "text": [
      "             precision    recall  f1-score   support\n",
      "\n",
      "          0       0.96      0.50      0.66     11896\n",
      "          1       0.05      0.56      0.10       598\n",
      "\n",
      "avg / total       0.91      0.51      0.63     12494\n",
      "\n"
     ]
    }
   ],
   "source": [
    "# Evaluation of GaussianNB with Balanced Data\n",
    "print (classification_report(y_true_GaussianNB, y_predict_GaussianNB))"
   ]
  },
  {
   "cell_type": "code",
   "execution_count": 25,
   "metadata": {
    "scrolled": true
   },
   "outputs": [
    {
     "name": "stdout",
     "output_type": "stream",
     "text": [
      "Confusion Matrix for GaussianNB with Balanced Data:\n",
      "[[5979 5917]\n",
      " [ 262  336]]\n"
     ]
    }
   ],
   "source": [
    "print (\"Confusion Matrix for GaussianNB with Balanced Data:\")\n",
    "print(confusion_matrix(y_true_GaussianNB, y_predict_GaussianNB))"
   ]
  },
  {
   "cell_type": "code",
   "execution_count": 26,
   "metadata": {
    "scrolled": true
   },
   "outputs": [
    {
     "name": "stdout",
     "output_type": "stream",
     "text": [
      "AUC score for GaussianNB with Balanced Data:\n",
      "0.532239413827\n"
     ]
    }
   ],
   "source": [
    "print (\"AUC score for GaussianNB with Balanced Data:\")\n",
    "print(roc_auc_score(y_true_GaussianNB, y_predict_GaussianNB))"
   ]
  },
  {
   "cell_type": "markdown",
   "metadata": {
    "collapsed": true
   },
   "source": [
    "## Support Vector Machine with Balanced Data"
   ]
  },
  {
   "cell_type": "code",
   "execution_count": 27,
   "metadata": {
    "collapsed": true
   },
   "outputs": [],
   "source": [
    "# Support Vector Machine with Balanced Data\n",
    "clf_balanced_SVC = SVC(max_iter = 100,random_state=0)\n",
    "clf_balanced_SVC.fit(x_train_data_balanced,y_train_data_balanced)\n",
    "y_predict_SVC = clf_balanced_SVC.predict(x_val)\n",
    "y_true_SVC = y_val"
   ]
  },
  {
   "cell_type": "code",
   "execution_count": 28,
   "metadata": {},
   "outputs": [
    {
     "name": "stdout",
     "output_type": "stream",
     "text": [
      "             precision    recall  f1-score   support\n",
      "\n",
      "          0       0.95      0.98      0.97     11896\n",
      "          1       0.03      0.01      0.02       598\n",
      "\n",
      "avg / total       0.91      0.94      0.92     12494\n",
      "\n"
     ]
    }
   ],
   "source": [
    "# Evaluation of SVC with Balanced Data\n",
    "print (classification_report(y_true_SVC, y_predict_SVC))"
   ]
  },
  {
   "cell_type": "code",
   "execution_count": 29,
   "metadata": {},
   "outputs": [
    {
     "name": "stdout",
     "output_type": "stream",
     "text": [
      "Confusion Matrix for SVC with Balanced Data:\n",
      "[[11703   193]\n",
      " [  592     6]]\n"
     ]
    }
   ],
   "source": [
    "print (\"Confusion Matrix for SVC with Balanced Data:\")\n",
    "print(confusion_matrix(y_true_SVC, y_predict_SVC))"
   ]
  },
  {
   "cell_type": "code",
   "execution_count": 30,
   "metadata": {},
   "outputs": [
    {
     "name": "stdout",
     "output_type": "stream",
     "text": [
      "AUC score for SVC with Balanced Data:\n",
      "0.496904751998\n"
     ]
    }
   ],
   "source": [
    "print (\"AUC score for SVC with Balanced Data:\")\n",
    "print(roc_auc_score(y_true_SVC, y_predict_SVC))"
   ]
  },
  {
   "cell_type": "markdown",
   "metadata": {},
   "source": [
    "## Linear Model with Balanced Data"
   ]
  },
  {
   "cell_type": "code",
   "execution_count": 31,
   "metadata": {
    "collapsed": true
   },
   "outputs": [],
   "source": [
    "# Linear Model with Balanced Data\n",
    "clf_balanced_SGDClassifier = SGDClassifier(max_iter=5,random_state=0)\n",
    "clf_balanced_SGDClassifier.fit(x_train_data_balanced,y_train_data_balanced)\n",
    "y_predict_SGDClassifier = clf_balanced_SGDClassifier.predict(x_val)\n",
    "y_true_SGDClassifier = y_val"
   ]
  },
  {
   "cell_type": "code",
   "execution_count": 32,
   "metadata": {},
   "outputs": [
    {
     "name": "stdout",
     "output_type": "stream",
     "text": [
      "             precision    recall  f1-score   support\n",
      "\n",
      "          0       0.96      0.92      0.94     11896\n",
      "          1       0.08      0.14      0.10       598\n",
      "\n",
      "avg / total       0.91      0.88      0.90     12494\n",
      "\n"
     ]
    }
   ],
   "source": [
    "# Evaluation of Linear Model with Balanced Data\n",
    "print (classification_report(y_true_SGDClassifier, y_predict_SGDClassifier))"
   ]
  },
  {
   "cell_type": "code",
   "execution_count": 33,
   "metadata": {},
   "outputs": [
    {
     "name": "stdout",
     "output_type": "stream",
     "text": [
      "Confusion Matrix for SGDClassifier with Balanced Data:\n",
      "[[10918   978]\n",
      " [  513    85]]\n"
     ]
    }
   ],
   "source": [
    "print (\"Confusion Matrix for SGDClassifier with Balanced Data:\")\n",
    "print(confusion_matrix(y_true_SGDClassifier, y_predict_SGDClassifier))"
   ]
  },
  {
   "cell_type": "code",
   "execution_count": 34,
   "metadata": {},
   "outputs": [
    {
     "name": "stdout",
     "output_type": "stream",
     "text": [
      "AUC score for SGDClassifier with Balanced Data:\n",
      "0.529963979911\n"
     ]
    }
   ],
   "source": [
    "print (\"AUC score for SGDClassifier with Balanced Data:\")\n",
    "print(roc_auc_score(y_true_SGDClassifier, y_predict_SGDClassifier))"
   ]
  },
  {
   "cell_type": "markdown",
   "metadata": {},
   "source": [
    "## Random Forest with Balanced Data"
   ]
  },
  {
   "cell_type": "code",
   "execution_count": 35,
   "metadata": {
    "collapsed": true
   },
   "outputs": [],
   "source": [
    "# Random Forest with Balanced Data\n",
    "clf_balanced_RandomForestClassifier = RandomForestClassifier(random_state=0)\n",
    "clf_balanced_RandomForestClassifier.fit(x_train_data_balanced,y_train_data_balanced)\n",
    "y_predict_RandomForestClassifier = clf_balanced_RandomForestClassifier.predict(x_val)\n",
    "y_true_RandomForestClassifier = y_val"
   ]
  },
  {
   "cell_type": "code",
   "execution_count": 36,
   "metadata": {},
   "outputs": [
    {
     "name": "stdout",
     "output_type": "stream",
     "text": [
      "             precision    recall  f1-score   support\n",
      "\n",
      "          0       0.95      1.00      0.98     11896\n",
      "          1       0.00      0.00      0.00       598\n",
      "\n",
      "avg / total       0.91      0.95      0.93     12494\n",
      "\n"
     ]
    }
   ],
   "source": [
    "# Evaluation of Random Forest with Balanced Data\n",
    "print (classification_report(y_true_RandomForestClassifier, y_predict_RandomForestClassifier))"
   ]
  },
  {
   "cell_type": "code",
   "execution_count": 37,
   "metadata": {},
   "outputs": [
    {
     "name": "stdout",
     "output_type": "stream",
     "text": [
      "Confusion Matrix for RandomForestClassifier with Balanced Data:\n",
      "[[11894     2]\n",
      " [  598     0]]\n"
     ]
    }
   ],
   "source": [
    "print (\"Confusion Matrix for RandomForestClassifier with Balanced Data:\")\n",
    "print(confusion_matrix(y_true_RandomForestClassifier, y_predict_RandomForestClassifier))"
   ]
  },
  {
   "cell_type": "code",
   "execution_count": 38,
   "metadata": {},
   "outputs": [
    {
     "name": "stdout",
     "output_type": "stream",
     "text": [
      "AUC score for RandomForestClassifier with Balanced Data:\n",
      "0.49991593813\n"
     ]
    }
   ],
   "source": [
    "print (\"AUC score for RandomForestClassifier with Balanced Data:\")\n",
    "print(roc_auc_score(y_true_RandomForestClassifier, y_predict_RandomForestClassifier))"
   ]
  },
  {
   "cell_type": "markdown",
   "metadata": {},
   "source": [
    "## Testing with Personal Information Only"
   ]
  },
  {
   "cell_type": "code",
   "execution_count": 39,
   "metadata": {
    "collapsed": true
   },
   "outputs": [],
   "source": [
    "# Personal Information only with Balanced\n",
    "# Datas: x_train_data_balanced, y_train_data_balanced,x_val,y_val\n",
    "# Personal information - Columns 0-17\n",
    "\n",
    "x_train_data_balanced_ind = x_train_data_balanced[:,[0,1,2,3,4,5,6,7,8,9,10,11,12,13,14,15,16,17]]\n",
    "y_train_data_balanced_ind = y_train_data_balanced\n",
    "x_val_ind = x_val[['ps_ind_01','ps_ind_02_cat','ps_ind_03','ps_ind_04_cat','ps_ind_05_cat','ps_ind_06_bin','ps_ind_07_bin','ps_ind_08_bin','ps_ind_09_bin','ps_ind_10_bin','ps_ind_11_bin','ps_ind_12_bin','ps_ind_13_bin','ps_ind_14','ps_ind_15','ps_ind_16_bin','ps_ind_17_bin','ps_ind_18_bin']]\n",
    "y_val_ind = y_val"
   ]
  },
  {
   "cell_type": "markdown",
   "metadata": {},
   "source": [
    "## Naive Bayes with Balanced Data - Personal Information Only"
   ]
  },
  {
   "cell_type": "code",
   "execution_count": 40,
   "metadata": {
    "collapsed": true
   },
   "outputs": [],
   "source": [
    "# Naive Bayes with Balanced Data - Personal Information Only\n",
    "clf_balanced_GaussianNB_ind = GaussianNB()\n",
    "clf_balanced_GaussianNB_ind.fit(x_train_data_balanced_ind,y_train_data_balanced_ind)\n",
    "y_predict_GaussianNB_ind = clf_balanced_GaussianNB_ind.predict(x_val_ind)\n",
    "y_true_GaussianNB_ind = y_val_ind"
   ]
  },
  {
   "cell_type": "code",
   "execution_count": 41,
   "metadata": {},
   "outputs": [
    {
     "name": "stdout",
     "output_type": "stream",
     "text": [
      "             precision    recall  f1-score   support\n",
      "\n",
      "          0       0.96      0.24      0.39     11896\n",
      "          1       0.05      0.81      0.10       598\n",
      "\n",
      "avg / total       0.92      0.27      0.38     12494\n",
      "\n"
     ]
    }
   ],
   "source": [
    "# Evaluation of GaussianNB with Balanced Data - Personal Information Only\n",
    "print (classification_report(y_true_GaussianNB_ind, y_predict_GaussianNB_ind))"
   ]
  },
  {
   "cell_type": "code",
   "execution_count": 42,
   "metadata": {},
   "outputs": [
    {
     "name": "stdout",
     "output_type": "stream",
     "text": [
      "Confusion Matrix for GaussianNB with Balanced Data - Personal Information Only:\n",
      "[[2901 8995]\n",
      " [ 116  482]]\n"
     ]
    }
   ],
   "source": [
    "print (\"Confusion Matrix for GaussianNB with Balanced Data - Personal Information Only:\")\n",
    "print(confusion_matrix(y_true_GaussianNB_ind, y_predict_GaussianNB_ind))"
   ]
  },
  {
   "cell_type": "code",
   "execution_count": 43,
   "metadata": {},
   "outputs": [
    {
     "name": "stdout",
     "output_type": "stream",
     "text": [
      "AUC score for GaussianNB with Balanced Data - Personal Information Only:\n",
      "0.524941775207\n"
     ]
    }
   ],
   "source": [
    "print (\"AUC score for GaussianNB with Balanced Data - Personal Information Only:\")\n",
    "print(roc_auc_score(y_true_GaussianNB_ind, y_predict_GaussianNB_ind))"
   ]
  },
  {
   "cell_type": "markdown",
   "metadata": {},
   "source": [
    "## Support Vector Machine with Balanced Data - Personal Information Only"
   ]
  },
  {
   "cell_type": "code",
   "execution_count": 44,
   "metadata": {
    "collapsed": true
   },
   "outputs": [],
   "source": [
    "# Support Vector Machine with Balanced Data - Personal Information Only\n",
    "clf_balanced_SVC_ind = SVC(max_iter = 100,random_state=0)\n",
    "clf_balanced_SVC_ind.fit(x_train_data_balanced_ind,y_train_data_balanced_ind)\n",
    "y_predict_SVC_ind = clf_balanced_SVC_ind.predict(x_val_ind)\n",
    "y_true_SVC_ind = y_val"
   ]
  },
  {
   "cell_type": "code",
   "execution_count": 45,
   "metadata": {},
   "outputs": [
    {
     "name": "stdout",
     "output_type": "stream",
     "text": [
      "             precision    recall  f1-score   support\n",
      "\n",
      "          0       0.95      0.91      0.93     11896\n",
      "          1       0.04      0.09      0.06       598\n",
      "\n",
      "avg / total       0.91      0.87      0.89     12494\n",
      "\n"
     ]
    }
   ],
   "source": [
    "# Evaluation of SVC with Balanced Data - Personal Information Only\n",
    "print (classification_report(y_true_SVC_ind, y_predict_SVC_ind))"
   ]
  },
  {
   "cell_type": "code",
   "execution_count": 46,
   "metadata": {},
   "outputs": [
    {
     "name": "stdout",
     "output_type": "stream",
     "text": [
      "Confusion Matrix for SVC with Balanced Data - Personal Information Only:\n",
      "[[10776  1120]\n",
      " [  546    52]]\n"
     ]
    }
   ],
   "source": [
    "print (\"Confusion Matrix for SVC with Balanced Data - Personal Information Only:\")\n",
    "print(confusion_matrix(y_true_SVC_ind, y_predict_SVC_ind))"
   ]
  },
  {
   "cell_type": "code",
   "execution_count": 47,
   "metadata": {},
   "outputs": [
    {
     "name": "stdout",
     "output_type": "stream",
     "text": [
      "AUC score for SVC with Balanced Data - Personal Information Only:\n",
      "0.496403613929\n"
     ]
    }
   ],
   "source": [
    "print (\"AUC score for SVC with Balanced Data - Personal Information Only:\")\n",
    "print(roc_auc_score(y_true_SVC_ind, y_predict_SVC_ind))"
   ]
  },
  {
   "cell_type": "markdown",
   "metadata": {},
   "source": [
    "## Linear Model with Balanced Data - Personal Information Only"
   ]
  },
  {
   "cell_type": "code",
   "execution_count": 48,
   "metadata": {
    "collapsed": true
   },
   "outputs": [],
   "source": [
    "# Linear Model with Balanced Data - Personal Information Only\n",
    "clf_balanced_SGDClassifier_ind = SGDClassifier(max_iter=5,random_state=0)\n",
    "clf_balanced_SGDClassifier_ind.fit(x_train_data_balanced_ind,y_train_data_balanced_ind)\n",
    "y_predict_SGDClassifier_ind = clf_balanced_SGDClassifier_ind.predict(x_val_ind)\n",
    "y_true_SGDClassifier_ind = y_val"
   ]
  },
  {
   "cell_type": "code",
   "execution_count": 49,
   "metadata": {},
   "outputs": [
    {
     "name": "stdout",
     "output_type": "stream",
     "text": [
      "             precision    recall  f1-score   support\n",
      "\n",
      "          0       0.95      0.15      0.27     11896\n",
      "          1       0.05      0.82      0.09       598\n",
      "\n",
      "avg / total       0.90      0.19      0.26     12494\n",
      "\n"
     ]
    }
   ],
   "source": [
    "# Evaluation of Linear Model with Balanced Data - Personal Information Only\n",
    "print (classification_report(y_true_SGDClassifier_ind, y_predict_SGDClassifier_ind))"
   ]
  },
  {
   "cell_type": "code",
   "execution_count": 50,
   "metadata": {},
   "outputs": [
    {
     "name": "stdout",
     "output_type": "stream",
     "text": [
      "Confusion Matrix for SGDClassifier with Balanced Data - Personal Information Only:\n",
      "[[ 1842 10054]\n",
      " [  106   492]]\n"
     ]
    }
   ],
   "source": [
    "print (\"Confusion Matrix for SGDClassifier with Balanced Data - Personal Information Only:\")\n",
    "print(confusion_matrix(y_true_SGDClassifier_ind, y_predict_SGDClassifier_ind))"
   ]
  },
  {
   "cell_type": "code",
   "execution_count": 51,
   "metadata": {},
   "outputs": [
    {
     "name": "stdout",
     "output_type": "stream",
     "text": [
      "AUC score for SGDClassifier with Balanced Data - Personal Information Only:\n",
      "0.488792219301\n"
     ]
    }
   ],
   "source": [
    "print (\"AUC score for SGDClassifier with Balanced Data - Personal Information Only:\")\n",
    "print(roc_auc_score(y_true_SGDClassifier_ind, y_predict_SGDClassifier_ind))"
   ]
  },
  {
   "cell_type": "markdown",
   "metadata": {},
   "source": [
    "## Random Forest with Balanced Data - Personal Information Only"
   ]
  },
  {
   "cell_type": "code",
   "execution_count": 52,
   "metadata": {
    "collapsed": true
   },
   "outputs": [],
   "source": [
    "# Random Forest with Balanced Data - Personal Information Only\n",
    "clf_balanced_RandomForestClassifier_ind = RandomForestClassifier(random_state=0)\n",
    "clf_balanced_RandomForestClassifier_ind.fit(x_train_data_balanced_ind,y_train_data_balanced_ind)\n",
    "y_predict_RandomForestClassifier_ind = clf_balanced_RandomForestClassifier_ind.predict(x_val_ind)\n",
    "y_true_RandomForestClassifier_ind = y_val"
   ]
  },
  {
   "cell_type": "code",
   "execution_count": 53,
   "metadata": {},
   "outputs": [
    {
     "name": "stdout",
     "output_type": "stream",
     "text": [
      "             precision    recall  f1-score   support\n",
      "\n",
      "          0       0.95      0.99      0.97     11896\n",
      "          1       0.08      0.02      0.03       598\n",
      "\n",
      "avg / total       0.91      0.94      0.93     12494\n",
      "\n"
     ]
    }
   ],
   "source": [
    "# Evaluation of Random Forest with Balanced Data - Personal Information Only\n",
    "print (classification_report(y_true_RandomForestClassifier_ind, y_predict_RandomForestClassifier_ind))"
   ]
  },
  {
   "cell_type": "code",
   "execution_count": 54,
   "metadata": {},
   "outputs": [
    {
     "name": "stdout",
     "output_type": "stream",
     "text": [
      "Confusion Matrix for RandomForestClassifier with Balanced Data - Personal Information Only:\n",
      "[[11754   142]\n",
      " [  586    12]]\n"
     ]
    }
   ],
   "source": [
    "print (\"Confusion Matrix for RandomForestClassifier with Balanced Data - Personal Information Only:\")\n",
    "print(confusion_matrix(y_true_RandomForestClassifier_ind, y_predict_RandomForestClassifier_ind))"
   ]
  },
  {
   "cell_type": "code",
   "execution_count": 55,
   "metadata": {},
   "outputs": [
    {
     "name": "stdout",
     "output_type": "stream",
     "text": [
      "AUC score for RandomForestClassifier with Balanced Data - Personal Information Only:\n",
      "0.504065052079\n"
     ]
    }
   ],
   "source": [
    "print (\"AUC score for RandomForestClassifier with Balanced Data - Personal Information Only:\")\n",
    "print(roc_auc_score(y_true_RandomForestClassifier_ind, y_predict_RandomForestClassifier_ind))"
   ]
  },
  {
   "cell_type": "markdown",
   "metadata": {},
   "source": [
    "## Testing with Region Information Only"
   ]
  },
  {
   "cell_type": "code",
   "execution_count": 56,
   "metadata": {
    "collapsed": true
   },
   "outputs": [],
   "source": [
    "# Region Information only with Balanced\n",
    "# Datas: x_train_data_balanced, y_train_data_balanced,x_val,y_val\n",
    "# Personal information - Columns 18-20\n",
    "\n",
    "x_train_data_balanced_reg = x_train_data_balanced[:,[18,19,20]]\n",
    "y_train_data_balanced_reg = y_train_data_balanced\n",
    "x_val_reg = x_val[['ps_reg_01','ps_reg_02','ps_reg_03']]\n",
    "y_val_reg = y_val"
   ]
  },
  {
   "cell_type": "markdown",
   "metadata": {},
   "source": [
    "## Naive Bayes with Balanced Data - Region Information Only"
   ]
  },
  {
   "cell_type": "code",
   "execution_count": 57,
   "metadata": {
    "collapsed": true
   },
   "outputs": [],
   "source": [
    "# Naive Bayes with Balanced Data - Region Information Only\n",
    "clf_balanced_GaussianNB_reg = GaussianNB()\n",
    "clf_balanced_GaussianNB_reg.fit(x_train_data_balanced_reg,y_train_data_balanced_reg)\n",
    "y_predict_GaussianNB_reg = clf_balanced_GaussianNB_reg.predict(x_val_reg)\n",
    "y_true_GaussianNB_reg = y_val_reg"
   ]
  },
  {
   "cell_type": "code",
   "execution_count": 58,
   "metadata": {},
   "outputs": [
    {
     "name": "stdout",
     "output_type": "stream",
     "text": [
      "             precision    recall  f1-score   support\n",
      "\n",
      "          0       0.96      0.47      0.63     11896\n",
      "          1       0.05      0.58      0.09       598\n",
      "\n",
      "avg / total       0.91      0.47      0.60     12494\n",
      "\n"
     ]
    }
   ],
   "source": [
    "# Evaluation of GaussianNB with Balanced Data - Region Information Only\n",
    "print (classification_report(y_true_GaussianNB_reg, y_predict_GaussianNB_reg))"
   ]
  },
  {
   "cell_type": "code",
   "execution_count": 59,
   "metadata": {},
   "outputs": [
    {
     "name": "stdout",
     "output_type": "stream",
     "text": [
      "Confusion Matrix for GaussianNB with Balanced Data - Region Information Only:\n",
      "[[5543 6353]\n",
      " [ 254  344]]\n"
     ]
    }
   ],
   "source": [
    "print (\"Confusion Matrix for GaussianNB with Balanced Data - Region Information Only:\")\n",
    "print(confusion_matrix(y_true_GaussianNB_reg, y_predict_GaussianNB_reg))"
   ]
  },
  {
   "cell_type": "code",
   "execution_count": 60,
   "metadata": {},
   "outputs": [
    {
     "name": "stdout",
     "output_type": "stream",
     "text": [
      "AUC score for GaussianNB with Balanced Data - Region Information Only:\n",
      "0.520602889479\n"
     ]
    }
   ],
   "source": [
    "print (\"AUC score for GaussianNB with Balanced Data - Region Information Only:\")\n",
    "print(roc_auc_score(y_true_GaussianNB_reg, y_predict_GaussianNB_reg))"
   ]
  },
  {
   "cell_type": "markdown",
   "metadata": {},
   "source": [
    "## Support Vector Machine with Balanced Data - Region Information Only"
   ]
  },
  {
   "cell_type": "code",
   "execution_count": 61,
   "metadata": {
    "collapsed": true
   },
   "outputs": [],
   "source": [
    "# Support Vector Machine with Balanced Data - Region Information Only\n",
    "clf_balanced_SVC_reg = SVC(max_iter = 100,random_state=0)\n",
    "clf_balanced_SVC_reg.fit(x_train_data_balanced_reg,y_train_data_balanced_reg)\n",
    "y_predict_SVC_reg = clf_balanced_SVC_reg.predict(x_val_reg)\n",
    "y_true_SVC_reg = y_val"
   ]
  },
  {
   "cell_type": "code",
   "execution_count": 62,
   "metadata": {},
   "outputs": [
    {
     "name": "stdout",
     "output_type": "stream",
     "text": [
      "             precision    recall  f1-score   support\n",
      "\n",
      "          0       0.94      0.11      0.20     11896\n",
      "          1       0.05      0.87      0.09       598\n",
      "\n",
      "avg / total       0.90      0.15      0.20     12494\n",
      "\n"
     ]
    }
   ],
   "source": [
    "# Evaluation of SVC with Balanced Data - Region Information Only\n",
    "print (classification_report(y_true_SVC_reg, y_predict_SVC_reg))"
   ]
  },
  {
   "cell_type": "code",
   "execution_count": 63,
   "metadata": {},
   "outputs": [
    {
     "name": "stdout",
     "output_type": "stream",
     "text": [
      "Confusion Matrix for SVC with Balanced Data - Region Information Only:\n",
      "[[ 1356 10540]\n",
      " [   80   518]]\n"
     ]
    }
   ],
   "source": [
    "print (\"Confusion Matrix for SVC with Balanced Data - Region Information Only:\")\n",
    "print(confusion_matrix(y_true_SVC_reg, y_predict_SVC_reg))"
   ]
  },
  {
   "cell_type": "code",
   "execution_count": 64,
   "metadata": {},
   "outputs": [
    {
     "name": "stdout",
     "output_type": "stream",
     "text": [
      "AUC score for SVC with Balanced Data - Region Information Only:\n",
      "0.490104315438\n"
     ]
    }
   ],
   "source": [
    "print (\"AUC score for SVC with Balanced Data - Region Information Only:\")\n",
    "print(roc_auc_score(y_true_SVC_reg, y_predict_SVC_reg))"
   ]
  },
  {
   "cell_type": "markdown",
   "metadata": {},
   "source": [
    "## Linear Model with Balanced Data - Region Information Only"
   ]
  },
  {
   "cell_type": "code",
   "execution_count": 65,
   "metadata": {
    "collapsed": true
   },
   "outputs": [],
   "source": [
    "# Linear Model with Balanced Data - Region Information Only\n",
    "clf_balanced_SGDClassifier_reg = SGDClassifier(max_iter=5,random_state=0)\n",
    "clf_balanced_SGDClassifier_reg.fit(x_train_data_balanced_reg,y_train_data_balanced_reg)\n",
    "y_predict_SGDClassifier_reg = clf_balanced_SGDClassifier_reg.predict(x_val_reg)\n",
    "y_true_SGDClassifier_reg = y_val"
   ]
  },
  {
   "cell_type": "code",
   "execution_count": 66,
   "metadata": {},
   "outputs": [
    {
     "name": "stdout",
     "output_type": "stream",
     "text": [
      "             precision    recall  f1-score   support\n",
      "\n",
      "          0       0.96      0.72      0.82     11896\n",
      "          1       0.06      0.35      0.10       598\n",
      "\n",
      "avg / total       0.91      0.70      0.78     12494\n",
      "\n"
     ]
    }
   ],
   "source": [
    "# Evaluation of Linear Model with Balanced Data - Region Information Only\n",
    "print (classification_report(y_true_SGDClassifier_reg, y_predict_SGDClassifier_reg))"
   ]
  },
  {
   "cell_type": "code",
   "execution_count": 67,
   "metadata": {},
   "outputs": [
    {
     "name": "stdout",
     "output_type": "stream",
     "text": [
      "Confusion Matrix for SGDClassifier with Balanced Data - Region Information Only:\n",
      "[[8524 3372]\n",
      " [ 387  211]]\n"
     ]
    }
   ],
   "source": [
    "print (\"Confusion Matrix for SGDClassifier with Balanced Data - Region Information Only:\")\n",
    "print(confusion_matrix(y_true_SGDClassifier_reg, y_predict_SGDClassifier_reg))"
   ]
  },
  {
   "cell_type": "code",
   "execution_count": 68,
   "metadata": {},
   "outputs": [
    {
     "name": "stdout",
     "output_type": "stream",
     "text": [
      "AUC score for SGDClassifier with Balanced Data - Region Information Only:\n",
      "0.534693092645\n"
     ]
    }
   ],
   "source": [
    "print (\"AUC score for SGDClassifier with Balanced Data - Region Information Only:\")\n",
    "print(roc_auc_score(y_true_SGDClassifier_reg, y_predict_SGDClassifier_reg))"
   ]
  },
  {
   "cell_type": "markdown",
   "metadata": {},
   "source": [
    "## Random Forest with Balanced Data - Region Information Only"
   ]
  },
  {
   "cell_type": "code",
   "execution_count": 69,
   "metadata": {
    "collapsed": true
   },
   "outputs": [],
   "source": [
    "# Random Forest with Balanced Data - Region Information Only\n",
    "clf_balanced_RandomForestClassifier_reg = RandomForestClassifier(random_state=0)\n",
    "clf_balanced_RandomForestClassifier_reg.fit(x_train_data_balanced_reg,y_train_data_balanced_reg)\n",
    "y_predict_RandomForestClassifier_reg = clf_balanced_RandomForestClassifier_reg.predict(x_val_reg)\n",
    "y_true_RandomForestClassifier_reg = y_val"
   ]
  },
  {
   "cell_type": "code",
   "execution_count": 70,
   "metadata": {},
   "outputs": [
    {
     "name": "stdout",
     "output_type": "stream",
     "text": [
      "             precision    recall  f1-score   support\n",
      "\n",
      "          0       0.95      0.98      0.97     11896\n",
      "          1       0.06      0.02      0.03       598\n",
      "\n",
      "avg / total       0.91      0.94      0.92     12494\n",
      "\n"
     ]
    }
   ],
   "source": [
    "# Evaluation of Random Forest with Balanced Data - Region Information Only\n",
    "print (classification_report(y_true_RandomForestClassifier_reg, y_predict_RandomForestClassifier_reg))"
   ]
  },
  {
   "cell_type": "code",
   "execution_count": 71,
   "metadata": {},
   "outputs": [
    {
     "name": "stdout",
     "output_type": "stream",
     "text": [
      "Confusion Matrix for RandomForestClassifier with Balanced Data - Region Information Only:\n",
      "[[11692   204]\n",
      " [  584    14]]\n"
     ]
    }
   ],
   "source": [
    "print (\"Confusion Matrix for RandomForestClassifier with Balanced Data - Region Information Only:\")\n",
    "print(confusion_matrix(y_true_RandomForestClassifier_reg, y_predict_RandomForestClassifier_reg))"
   ]
  },
  {
   "cell_type": "code",
   "execution_count": 72,
   "metadata": {},
   "outputs": [
    {
     "name": "stdout",
     "output_type": "stream",
     "text": [
      "AUC score for RandomForestClassifier with Balanced Data - Region Information Only:\n",
      "0.503131374926\n"
     ]
    }
   ],
   "source": [
    "print (\"AUC score for RandomForestClassifier with Balanced Data - Region Information Only:\")\n",
    "print(roc_auc_score(y_true_RandomForestClassifier_reg, y_predict_RandomForestClassifier_reg))"
   ]
  },
  {
   "cell_type": "markdown",
   "metadata": {},
   "source": [
    "## Testing with Auto Information Only"
   ]
  },
  {
   "cell_type": "code",
   "execution_count": 73,
   "metadata": {
    "collapsed": true
   },
   "outputs": [],
   "source": [
    "# Auto Information only with Balanced\n",
    "# Datas: x_train_data_balanced, y_train_data_balanced,x_val,y_val\n",
    "# Personal information - Columns 21-36\n",
    "\n",
    "x_train_data_balanced_auto = x_train_data_balanced[:,[21,22,23,24,25,26,27,28,29,30,31,32,33,34,35,36]]\n",
    "y_train_data_balanced_auto = y_train_data_balanced\n",
    "x_val_auto = x_val[['ps_car_01_cat','ps_car_02_cat','ps_car_03_cat','ps_car_04_cat','ps_car_05_cat','ps_car_06_cat','ps_car_07_cat','ps_car_08_cat','ps_car_09_cat','ps_car_10_cat','ps_car_11_cat','ps_car_11','ps_car_12','ps_car_13','ps_car_14','ps_car_15']]\n",
    "y_val_auto = y_val"
   ]
  },
  {
   "cell_type": "markdown",
   "metadata": {},
   "source": [
    "## Naive Bayes with Balanced Data - Auto Information Only"
   ]
  },
  {
   "cell_type": "code",
   "execution_count": 74,
   "metadata": {
    "collapsed": true
   },
   "outputs": [],
   "source": [
    "# Naive Bayes with Balanced Data - Auto Information Only\n",
    "clf_balanced_GaussianNB_auto = GaussianNB()\n",
    "clf_balanced_GaussianNB_auto.fit(x_train_data_balanced_auto,y_train_data_balanced_auto)\n",
    "y_predict_GaussianNB_auto = clf_balanced_GaussianNB_auto.predict(x_val_auto)\n",
    "y_true_GaussianNB_auto = y_val_reg"
   ]
  },
  {
   "cell_type": "code",
   "execution_count": 75,
   "metadata": {},
   "outputs": [
    {
     "name": "stdout",
     "output_type": "stream",
     "text": [
      "             precision    recall  f1-score   support\n",
      "\n",
      "          0       0.96      0.48      0.64     11896\n",
      "          1       0.06      0.61      0.10       598\n",
      "\n",
      "avg / total       0.92      0.49      0.61     12494\n",
      "\n"
     ]
    }
   ],
   "source": [
    "# Evaluation of GaussianNB with Balanced Data - Auto Information Only\n",
    "print (classification_report(y_true_GaussianNB_auto, y_predict_GaussianNB_auto))"
   ]
  },
  {
   "cell_type": "code",
   "execution_count": 76,
   "metadata": {},
   "outputs": [
    {
     "name": "stdout",
     "output_type": "stream",
     "text": [
      "Confusion Matrix for GaussianNB with Balanced Data - Auto Information Only:\n",
      "[[5715 6181]\n",
      " [ 231  367]]\n"
     ]
    }
   ],
   "source": [
    "print (\"Confusion Matrix for GaussianNB with Balanced Data - Auto Information Only:\")\n",
    "print(confusion_matrix(y_true_GaussianNB_auto, y_predict_GaussianNB_auto))"
   ]
  },
  {
   "cell_type": "code",
   "execution_count": 77,
   "metadata": {},
   "outputs": [
    {
     "name": "stdout",
     "output_type": "stream",
     "text": [
      "AUC score for GaussianNB with Balanced Data - Auto Information Only:\n",
      "0.54706297949\n"
     ]
    }
   ],
   "source": [
    "print (\"AUC score for GaussianNB with Balanced Data - Auto Information Only:\")\n",
    "print(roc_auc_score(y_true_GaussianNB_auto, y_predict_GaussianNB_auto))"
   ]
  },
  {
   "cell_type": "markdown",
   "metadata": {},
   "source": [
    "## Support Vector Machine with Balanced Data - Auto Information Only"
   ]
  },
  {
   "cell_type": "code",
   "execution_count": 78,
   "metadata": {
    "collapsed": true
   },
   "outputs": [],
   "source": [
    "# Support Vector Machine with Balanced Data - Auto Information Only\n",
    "clf_balanced_SVC_auto = SVC(max_iter = 100,random_state=0)\n",
    "clf_balanced_SVC_auto.fit(x_train_data_balanced_auto,y_train_data_balanced_auto)\n",
    "y_predict_SVC_auto = clf_balanced_SVC_auto.predict(x_val_auto)\n",
    "y_true_SVC_auto = y_val"
   ]
  },
  {
   "cell_type": "code",
   "execution_count": 79,
   "metadata": {},
   "outputs": [
    {
     "name": "stdout",
     "output_type": "stream",
     "text": [
      "             precision    recall  f1-score   support\n",
      "\n",
      "          0       0.95      0.96      0.96     11896\n",
      "          1       0.03      0.03      0.03       598\n",
      "\n",
      "avg / total       0.91      0.92      0.91     12494\n",
      "\n"
     ]
    }
   ],
   "source": [
    "# Evaluation of SVC with Balanced Data - Auto Information Only\n",
    "print (classification_report(y_true_SVC_auto, y_predict_SVC_auto))"
   ]
  },
  {
   "cell_type": "code",
   "execution_count": 80,
   "metadata": {},
   "outputs": [
    {
     "name": "stdout",
     "output_type": "stream",
     "text": [
      "Confusion Matrix for SVC with Balanced Data - Auto Information Only:\n",
      "[[11477   419]\n",
      " [  583    15]]\n"
     ]
    }
   ],
   "source": [
    "print (\"Confusion Matrix for SVC with Balanced Data - Auto Information Only:\")\n",
    "print(confusion_matrix(y_true_SVC_auto, y_predict_SVC_auto))"
   ]
  },
  {
   "cell_type": "code",
   "execution_count": 81,
   "metadata": {},
   "outputs": [
    {
     "name": "stdout",
     "output_type": "stream",
     "text": [
      "AUC score for SVC with Balanced Data - Auto Information Only:\n",
      "0.494930844352\n"
     ]
    }
   ],
   "source": [
    "print (\"AUC score for SVC with Balanced Data - Auto Information Only:\")\n",
    "print(roc_auc_score(y_true_SVC_auto, y_predict_SVC_auto))"
   ]
  },
  {
   "cell_type": "markdown",
   "metadata": {},
   "source": [
    "## Linear Model with Balanced Data - Auto Information Only"
   ]
  },
  {
   "cell_type": "code",
   "execution_count": 82,
   "metadata": {
    "collapsed": true
   },
   "outputs": [],
   "source": [
    "# Linear Model with Balanced Data - Auto Information Only\n",
    "clf_balanced_SGDClassifier_auto = SGDClassifier(max_iter=5,random_state=0)\n",
    "clf_balanced_SGDClassifier_auto.fit(x_train_data_balanced_auto,y_train_data_balanced_auto)\n",
    "y_predict_SGDClassifier_auto = clf_balanced_SGDClassifier_auto.predict(x_val_auto)\n",
    "y_true_SGDClassifier_auto = y_val"
   ]
  },
  {
   "cell_type": "code",
   "execution_count": 83,
   "metadata": {},
   "outputs": [
    {
     "name": "stdout",
     "output_type": "stream",
     "text": [
      "             precision    recall  f1-score   support\n",
      "\n",
      "          0       0.96      0.81      0.88     11896\n",
      "          1       0.06      0.24      0.10       598\n",
      "\n",
      "avg / total       0.91      0.79      0.84     12494\n",
      "\n"
     ]
    }
   ],
   "source": [
    "# Evaluation of Linear Model with Balanced Data - Auto Information Only\n",
    "print (classification_report(y_true_SGDClassifier_auto, y_predict_SGDClassifier_auto))"
   ]
  },
  {
   "cell_type": "code",
   "execution_count": 84,
   "metadata": {},
   "outputs": [
    {
     "name": "stdout",
     "output_type": "stream",
     "text": [
      "Confusion Matrix for SGDClassifier with Balanced Data - Auto Information Only:\n",
      "[[9680 2216]\n",
      " [ 452  146]]\n"
     ]
    }
   ],
   "source": [
    "print (\"Confusion Matrix for SGDClassifier with Balanced Data - Auto Information Only:\")\n",
    "print(confusion_matrix(y_true_SGDClassifier_auto, y_predict_SGDClassifier_auto))"
   ]
  },
  {
   "cell_type": "code",
   "execution_count": 85,
   "metadata": {},
   "outputs": [
    {
     "name": "stdout",
     "output_type": "stream",
     "text": [
      "AUC score for SGDClassifier with Balanced Data - Auto Information Only:\n",
      "0.528933027149\n"
     ]
    }
   ],
   "source": [
    "print (\"AUC score for SGDClassifier with Balanced Data - Auto Information Only:\")\n",
    "print(roc_auc_score(y_true_SGDClassifier_auto, y_predict_SGDClassifier_auto))"
   ]
  },
  {
   "cell_type": "markdown",
   "metadata": {},
   "source": [
    "## Random Forest with Balanced Data - Auto Information Only"
   ]
  },
  {
   "cell_type": "code",
   "execution_count": 86,
   "metadata": {
    "collapsed": true
   },
   "outputs": [],
   "source": [
    "# Random Forest with Balanced Data - Auto Information Only\n",
    "clf_balanced_RandomForestClassifier_auto = RandomForestClassifier(random_state=0)\n",
    "clf_balanced_RandomForestClassifier_auto.fit(x_train_data_balanced_auto,y_train_data_balanced_auto)\n",
    "y_predict_RandomForestClassifier_auto = clf_balanced_RandomForestClassifier_auto.predict(x_val_auto)\n",
    "y_true_RandomForestClassifier_auto = y_val"
   ]
  },
  {
   "cell_type": "code",
   "execution_count": 87,
   "metadata": {},
   "outputs": [
    {
     "name": "stdout",
     "output_type": "stream",
     "text": [
      "             precision    recall  f1-score   support\n",
      "\n",
      "          0       0.95      0.98      0.97     11896\n",
      "          1       0.05      0.02      0.03       598\n",
      "\n",
      "avg / total       0.91      0.94      0.92     12494\n",
      "\n"
     ]
    }
   ],
   "source": [
    "# Evaluation of Random Forest with Balanced Data - Auto Information Only\n",
    "print (classification_report(y_true_RandomForestClassifier_auto, y_predict_RandomForestClassifier_auto))"
   ]
  },
  {
   "cell_type": "code",
   "execution_count": 88,
   "metadata": {},
   "outputs": [
    {
     "name": "stdout",
     "output_type": "stream",
     "text": [
      "Confusion Matrix for RandomForestClassifier with Balanced Data - Auto Information Only:\n",
      "[[11673   223]\n",
      " [  586    12]]\n"
     ]
    }
   ],
   "source": [
    "print (\"Confusion Matrix for RandomForestClassifier with Balanced Data - Auto Information Only:\")\n",
    "print(confusion_matrix(y_true_RandomForestClassifier_auto, y_predict_RandomForestClassifier_auto))"
   ]
  },
  {
   "cell_type": "code",
   "execution_count": 89,
   "metadata": {},
   "outputs": [
    {
     "name": "stdout",
     "output_type": "stream",
     "text": [
      "AUC score for RandomForestClassifier with Balanced Data - Auto Information Only:\n",
      "0.500660546363\n"
     ]
    }
   ],
   "source": [
    "print (\"AUC score for RandomForestClassifier with Balanced Data - Auto Information Only:\")\n",
    "print(roc_auc_score(y_true_RandomForestClassifier_auto, y_predict_RandomForestClassifier_auto))"
   ]
  },
  {
   "cell_type": "markdown",
   "metadata": {},
   "source": [
    "## Testing with Calc Information Only"
   ]
  },
  {
   "cell_type": "code",
   "execution_count": 90,
   "metadata": {
    "collapsed": true
   },
   "outputs": [],
   "source": [
    "# Calc Information only with Balanced\n",
    "# Datas: x_train_data_balanced, y_train_data_balanced,x_val,y_val\n",
    "# Personal information - Columns 37-56\n",
    "\n",
    "x_train_data_balanced_calc = x_train_data_balanced[:,[37,38,39,40,41,42,43,44,45,46,47,48,49,50,51,52,53,54,55,56]]\n",
    "y_train_data_balanced_calc = y_train_data_balanced\n",
    "x_val_calc = x_val[['ps_calc_01','ps_calc_02','ps_calc_03','ps_calc_04','ps_calc_05','ps_calc_06','ps_calc_07','ps_calc_08','ps_calc_09','ps_calc_10','ps_calc_11','ps_calc_12','ps_calc_13','ps_calc_14','ps_calc_15_bin','ps_calc_16_bin','ps_calc_17_bin','ps_calc_18_bin','ps_calc_19_bin','ps_calc_20_bin']]\n",
    "y_val_calc = y_val"
   ]
  },
  {
   "cell_type": "markdown",
   "metadata": {},
   "source": [
    "## Naive Bayes with Balanced Data - Calc Information Only"
   ]
  },
  {
   "cell_type": "code",
   "execution_count": 91,
   "metadata": {
    "collapsed": true
   },
   "outputs": [],
   "source": [
    "# Naive Bayes with Balanced Data - Calc Information Only\n",
    "clf_balanced_GaussianNB_calc = GaussianNB()\n",
    "clf_balanced_GaussianNB_calc.fit(x_train_data_balanced_calc,y_train_data_balanced_calc)\n",
    "y_predict_GaussianNB_calc = clf_balanced_GaussianNB_calc.predict(x_val_calc)\n",
    "y_true_GaussianNB_calc = y_val_reg"
   ]
  },
  {
   "cell_type": "code",
   "execution_count": 92,
   "metadata": {},
   "outputs": [
    {
     "name": "stdout",
     "output_type": "stream",
     "text": [
      "             precision    recall  f1-score   support\n",
      "\n",
      "          0       0.95      0.67      0.78     11896\n",
      "          1       0.05      0.32      0.08       598\n",
      "\n",
      "avg / total       0.91      0.65      0.75     12494\n",
      "\n"
     ]
    }
   ],
   "source": [
    "# Evaluation of GaussianNB with Balanced Data - Calc Information Only\n",
    "print (classification_report(y_true_GaussianNB_calc, y_predict_GaussianNB_calc))"
   ]
  },
  {
   "cell_type": "code",
   "execution_count": 93,
   "metadata": {},
   "outputs": [
    {
     "name": "stdout",
     "output_type": "stream",
     "text": [
      "Confusion Matrix for GaussianNB with Balanced Data - Calc Information Only:\n",
      "[[7939 3957]\n",
      " [ 405  193]]\n"
     ]
    }
   ],
   "source": [
    "print (\"Confusion Matrix for GaussianNB with Balanced Data - Calc Information Only:\")\n",
    "print(confusion_matrix(y_true_GaussianNB_calc, y_predict_GaussianNB_calc))"
   ]
  },
  {
   "cell_type": "code",
   "execution_count": 94,
   "metadata": {},
   "outputs": [
    {
     "name": "stdout",
     "output_type": "stream",
     "text": [
      "AUC score for GaussianNB with Balanced Data - Calc Information Only:\n",
      "0.495054828581\n"
     ]
    }
   ],
   "source": [
    "print (\"AUC score for GaussianNB with Balanced Data - Calc Information Only:\")\n",
    "print(roc_auc_score(y_true_GaussianNB_calc, y_predict_GaussianNB_calc))"
   ]
  },
  {
   "cell_type": "markdown",
   "metadata": {},
   "source": [
    "## Support Vector Machine with Balanced Data - Calc Information Only"
   ]
  },
  {
   "cell_type": "code",
   "execution_count": 95,
   "metadata": {
    "collapsed": true
   },
   "outputs": [],
   "source": [
    "# Support Vector Machine with Balanced Data - Calc Information Only\n",
    "clf_balanced_SVC_calc = SVC(max_iter = 100,random_state=0)\n",
    "clf_balanced_SVC_calc.fit(x_train_data_balanced_calc,y_train_data_balanced_calc)\n",
    "y_predict_SVC_calc = clf_balanced_SVC_calc.predict(x_val_calc)\n",
    "y_true_SVC_calc = y_val"
   ]
  },
  {
   "cell_type": "code",
   "execution_count": 96,
   "metadata": {},
   "outputs": [
    {
     "name": "stdout",
     "output_type": "stream",
     "text": [
      "             precision    recall  f1-score   support\n",
      "\n",
      "          0       0.95      0.77      0.85     11896\n",
      "          1       0.04      0.20      0.07       598\n",
      "\n",
      "avg / total       0.91      0.74      0.81     12494\n",
      "\n"
     ]
    }
   ],
   "source": [
    "# Evaluation of SVC with Balanced Data - Calc Information Only\n",
    "print (classification_report(y_true_SVC_calc, y_predict_SVC_calc))"
   ]
  },
  {
   "cell_type": "code",
   "execution_count": 97,
   "metadata": {},
   "outputs": [
    {
     "name": "stdout",
     "output_type": "stream",
     "text": [
      "Confusion Matrix for SVC with Balanced Data - Calc Information Only:\n",
      "[[9134 2762]\n",
      " [ 476  122]]\n"
     ]
    }
   ],
   "source": [
    "print (\"Confusion Matrix for SVC with Balanced Data - Calc Information Only:\")\n",
    "print(confusion_matrix(y_true_SVC_calc, y_predict_SVC_calc))"
   ]
  },
  {
   "cell_type": "code",
   "execution_count": 98,
   "metadata": {},
   "outputs": [
    {
     "name": "stdout",
     "output_type": "stream",
     "text": [
      "AUC score for SVC with Balanced Data - Calc Information Only:\n",
      "0.485917247134\n"
     ]
    }
   ],
   "source": [
    "print (\"AUC score for SVC with Balanced Data - Calc Information Only:\")\n",
    "print(roc_auc_score(y_true_SVC_calc, y_predict_SVC_calc))"
   ]
  },
  {
   "cell_type": "markdown",
   "metadata": {},
   "source": [
    "## Linear Model with Balanced Data - Calc Information Only"
   ]
  },
  {
   "cell_type": "code",
   "execution_count": 99,
   "metadata": {
    "collapsed": true
   },
   "outputs": [],
   "source": [
    "# Linear Model with Balanced Data - Calc Information Only\n",
    "clf_balanced_SGDClassifier_calc = SGDClassifier(max_iter=5,random_state=0)\n",
    "clf_balanced_SGDClassifier_calc.fit(x_train_data_balanced_calc,y_train_data_balanced_calc)\n",
    "y_predict_SGDClassifier_calc = clf_balanced_SGDClassifier_calc.predict(x_val_calc)\n",
    "y_true_SGDClassifier_calc = y_val"
   ]
  },
  {
   "cell_type": "code",
   "execution_count": 100,
   "metadata": {},
   "outputs": [
    {
     "name": "stdout",
     "output_type": "stream",
     "text": [
      "             precision    recall  f1-score   support\n",
      "\n",
      "          0       0.00      0.00      0.00     11896\n",
      "          1       0.05      1.00      0.09       598\n",
      "\n",
      "avg / total       0.00      0.05      0.00     12494\n",
      "\n"
     ]
    }
   ],
   "source": [
    "# Evaluation of Linear Model with Balanced Data - Calc Information Only\n",
    "print (classification_report(y_true_SGDClassifier_calc, y_predict_SGDClassifier_calc))"
   ]
  },
  {
   "cell_type": "code",
   "execution_count": 101,
   "metadata": {},
   "outputs": [
    {
     "name": "stdout",
     "output_type": "stream",
     "text": [
      "Confusion Matrix for SGDClassifier with Balanced Data - Calc Information Only:\n",
      "[[    0 11896]\n",
      " [    0   598]]\n"
     ]
    }
   ],
   "source": [
    "print (\"Confusion Matrix for SGDClassifier with Balanced Data - Calc Information Only:\")\n",
    "print(confusion_matrix(y_true_SGDClassifier_calc, y_predict_SGDClassifier_calc))"
   ]
  },
  {
   "cell_type": "code",
   "execution_count": 102,
   "metadata": {},
   "outputs": [
    {
     "name": "stdout",
     "output_type": "stream",
     "text": [
      "AUC score for SGDClassifier with Balanced Data - Calc Information Only:\n",
      "0.5\n"
     ]
    }
   ],
   "source": [
    "print (\"AUC score for SGDClassifier with Balanced Data - Calc Information Only:\")\n",
    "print(roc_auc_score(y_true_SGDClassifier_calc, y_predict_SGDClassifier_calc))"
   ]
  },
  {
   "cell_type": "markdown",
   "metadata": {},
   "source": [
    "## Random Forest with Balanced Data - Calc Information Only"
   ]
  },
  {
   "cell_type": "code",
   "execution_count": 103,
   "metadata": {
    "collapsed": true
   },
   "outputs": [],
   "source": [
    "# Random Forest with Balanced Data - Calc Information Only\n",
    "clf_balanced_RandomForestClassifier_calc = RandomForestClassifier(random_state=0)\n",
    "clf_balanced_RandomForestClassifier_calc.fit(x_train_data_balanced_calc,y_train_data_balanced_calc)\n",
    "y_predict_RandomForestClassifier_calc = clf_balanced_RandomForestClassifier_calc.predict(x_val_calc)\n",
    "y_true_RandomForestClassifier_calc = y_val"
   ]
  },
  {
   "cell_type": "code",
   "execution_count": 104,
   "metadata": {},
   "outputs": [
    {
     "name": "stdout",
     "output_type": "stream",
     "text": [
      "             precision    recall  f1-score   support\n",
      "\n",
      "          0       0.95      1.00      0.98     11896\n",
      "          1       0.00      0.00      0.00       598\n",
      "\n",
      "avg / total       0.91      0.95      0.93     12494\n",
      "\n"
     ]
    }
   ],
   "source": [
    "# Evaluation of Random Forest with Balanced Data - Calc Information Only\n",
    "print (classification_report(y_true_RandomForestClassifier_calc, y_predict_RandomForestClassifier_calc))"
   ]
  },
  {
   "cell_type": "code",
   "execution_count": 105,
   "metadata": {},
   "outputs": [
    {
     "name": "stdout",
     "output_type": "stream",
     "text": [
      "Confusion Matrix for RandomForestClassifier with Balanced Data - Calc Information Only:\n",
      "[[11896     0]\n",
      " [  598     0]]\n"
     ]
    }
   ],
   "source": [
    "print (\"Confusion Matrix for RandomForestClassifier with Balanced Data - Calc Information Only:\")\n",
    "print(confusion_matrix(y_true_RandomForestClassifier_calc, y_predict_RandomForestClassifier_calc))"
   ]
  },
  {
   "cell_type": "code",
   "execution_count": 106,
   "metadata": {},
   "outputs": [
    {
     "name": "stdout",
     "output_type": "stream",
     "text": [
      "AUC score for RandomForestClassifier with Balanced Data - Calc Information Only:\n",
      "0.5\n"
     ]
    }
   ],
   "source": [
    "print (\"AUC score for RandomForestClassifier with Balanced Data - Calc Information Only:\")\n",
    "print(roc_auc_score(y_true_RandomForestClassifier_calc, y_predict_RandomForestClassifier_calc))"
   ]
  },
  {
   "cell_type": "markdown",
   "metadata": {},
   "source": [
    "## Removing all columns with Nan Values from Raw Data and scoring the probability\n",
    "\n",
    "**Columns Removed**\n",
    "- ID\n",
    "- ps_ind_02_cat\n",
    "- ps_ind_04_cat\n",
    "- ps_ind_05_cat\n",
    "- ps_reg_03\n",
    "- ps_car_01_cat\n",
    "- ps_car_02_cat\n",
    "- ps_car_03_cat\n",
    "- ps_car_05_cat\n",
    "- ps_car_07_cat\n",
    "- ps_car_09_cat\n",
    "- ps_car_11\n",
    "- ps_car_12\n",
    "- ps_car_14"
   ]
  },
  {
   "cell_type": "code",
   "execution_count": 107,
   "metadata": {
    "collapsed": true
   },
   "outputs": [],
   "source": [
    "# Removing all Columns with Nan values:\n",
    "# train_data.isnull().any()\n",
    "# Columns: ps_ind_02_cat, ps_ind_04_cat, ps_ind_05_cat, ps_reg_03, ps_car_01_cat, ps_car_02_cat, ps_car_03_cat, ps_car_05_cat, ps_car_07_cat, ps_car_09_cat, ps_car_11, ps_car_12, ps_car_14\n",
    "# Columns Number: 2,4,5,21,22,23,24,26,28,30,33,34,36\n",
    "\n",
    "# ID has already been dropped, Columns with Nan Values are removed\n",
    "test_data_all = test_data.drop(['id','ps_ind_02_cat','ps_ind_04_cat', 'ps_ind_05_cat', 'ps_reg_03', 'ps_car_01_cat', 'ps_car_02_cat', 'ps_car_03_cat', 'ps_car_05_cat', 'ps_car_07_cat', 'ps_car_09_cat', 'ps_car_11', 'ps_car_12', 'ps_car_14'],axis=1)\n",
    "x_train_data_balanced_all = x_train_data_balanced[:,[0,1,3,6,7,8,9,10,11,12,13,14,15,16,17,18,19,20,25,27,29,31,32,35,37,38,39,40,41,42,43,44,45,46,47,48,49,50,51,52,53,54,55,56]]\n",
    "y_train_data_balanced_all = y_train_data_balanced\n",
    "\n",
    "# Naive Bayes - Trained with Balanced Dataset\n",
    "clf_all_GaussianNB = GaussianNB()\n",
    "clf_all_GaussianNB.fit(x_train_data_balanced_all,y_train_data_balanced_all)\n",
    "result_all_GaussianNB = clf_all_GaussianNB.predict_proba(test_data_all)\n",
    "\n",
    "# Support Vector Machine - Trained with Balanced Dataset\n",
    "clf_all_SVC = SVC(max_iter = 100,probability=True)\n",
    "clf_all_SVC.fit(x_train_data_balanced_all,y_train_data_balanced_all)\n",
    "result_all_SVC = clf_all_SVC.predict_proba(test_data_all)\n",
    "\n",
    "# Linear Model - Trained with Balanced Dataset\n",
    "clf_all_SGDClassifier = SGDClassifier(max_iter=5,loss = 'log')\n",
    "clf_all_SGDClassifier.fit(x_train_data_balanced_all,y_train_data_balanced_all)\n",
    "result_all_SGDClassifier = clf_all_SGDClassifier.predict_proba(test_data_all)\n",
    "\n",
    "# Random Forest - Trained with Balanced Dataset\n",
    "clf_all_RandomForestClassifier = RandomForestClassifier()\n",
    "clf_all_RandomForestClassifier.fit(x_train_data_balanced_all,y_train_data_balanced_all)\n",
    "result_all_RandomForestClassifier = clf_all_RandomForestClassifier.predict_proba(test_data_all)"
   ]
  },
  {
   "cell_type": "markdown",
   "metadata": {},
   "source": [
    "## Scoring probability for each class of feature"
   ]
  },
  {
   "cell_type": "markdown",
   "metadata": {},
   "source": [
    "## IF Condition to run probability for each class of feature(Only on available on capston.py)\n",
    "\n",
    "**False** - Don't run these 4 techniques\n",
    "\n",
    "**True** - Run these 4 techniques"
   ]
  },
  {
   "cell_type": "code",
   "execution_count": 108,
   "metadata": {
    "collapsed": true
   },
   "outputs": [],
   "source": [
    "# Want to score with different methods\n",
    "scorediffm = False"
   ]
  },
  {
   "cell_type": "markdown",
   "metadata": {},
   "source": [
    "## Personal Information Only"
   ]
  },
  {
   "cell_type": "code",
   "execution_count": 109,
   "metadata": {
    "collapsed": true
   },
   "outputs": [],
   "source": [
    "# Scoring with different Methods \n",
    "\n",
    "if val_nan == True:\n",
    "    ### Only Personal Information with Nan Values\n",
    "    x_ind = train_data.drop(['target','id','ps_reg_01','ps_reg_02','ps_reg_03','ps_car_01_cat','ps_car_02_cat','ps_car_03_cat','ps_car_04_cat','ps_car_05_cat','ps_car_06_cat','ps_car_07_cat','ps_car_08_cat','ps_car_09_cat','ps_car_10_cat','ps_car_11_cat','ps_car_11','ps_car_12','ps_car_13','ps_car_14','ps_car_15','ps_calc_01','ps_calc_02','ps_calc_03','ps_calc_04','ps_calc_05','ps_calc_06','ps_calc_07','ps_calc_08','ps_calc_09','ps_calc_10','ps_calc_11','ps_calc_12','ps_calc_13','ps_calc_14','ps_calc_15_bin','ps_calc_16_bin','ps_calc_17_bin','ps_calc_18_bin','ps_calc_19_bin','ps_calc_20_bin'], axis =1)\n",
    "    y_ind = train_data[['target']]\n",
    "    test_ind = test_data.drop(['id','ps_reg_01','ps_reg_02','ps_reg_03','ps_car_01_cat','ps_car_02_cat','ps_car_03_cat','ps_car_04_cat','ps_car_05_cat','ps_car_06_cat','ps_car_07_cat','ps_car_08_cat','ps_car_09_cat','ps_car_10_cat','ps_car_11_cat','ps_car_11','ps_car_12','ps_car_13','ps_car_14','ps_car_15','ps_calc_01','ps_calc_02','ps_calc_03','ps_calc_04','ps_calc_05','ps_calc_06','ps_calc_07','ps_calc_08','ps_calc_09','ps_calc_10','ps_calc_11','ps_calc_12','ps_calc_13','ps_calc_14','ps_calc_15_bin','ps_calc_16_bin','ps_calc_17_bin','ps_calc_18_bin','ps_calc_19_bin','ps_calc_20_bin'], axis =1)\n",
    "elif val_nan == False:\n",
    "    ### Only Personal Information without Nan values\n",
    "    x_ind = train_data_clean.drop(['target','id','ps_reg_01','ps_reg_02','ps_reg_03','ps_car_01_cat','ps_car_02_cat','ps_car_03_cat','ps_car_04_cat','ps_car_05_cat','ps_car_06_cat','ps_car_07_cat','ps_car_08_cat','ps_car_09_cat','ps_car_10_cat','ps_car_11_cat','ps_car_11','ps_car_12','ps_car_13','ps_car_14','ps_car_15','ps_calc_01','ps_calc_02','ps_calc_03','ps_calc_04','ps_calc_05','ps_calc_06','ps_calc_07','ps_calc_08','ps_calc_09','ps_calc_10','ps_calc_11','ps_calc_12','ps_calc_13','ps_calc_14','ps_calc_15_bin','ps_calc_16_bin','ps_calc_17_bin','ps_calc_18_bin','ps_calc_19_bin','ps_calc_20_bin'], axis =1)\n",
    "    y_ind = train_data_clean[['target']]\n",
    "    test_ind = test_data_clean.drop(['id','ps_reg_01','ps_reg_02','ps_reg_03','ps_car_01_cat','ps_car_02_cat','ps_car_03_cat','ps_car_04_cat','ps_car_05_cat','ps_car_06_cat','ps_car_07_cat','ps_car_08_cat','ps_car_09_cat','ps_car_10_cat','ps_car_11_cat','ps_car_11','ps_car_12','ps_car_13','ps_car_14','ps_car_15','ps_calc_01','ps_calc_02','ps_calc_03','ps_calc_04','ps_calc_05','ps_calc_06','ps_calc_07','ps_calc_08','ps_calc_09','ps_calc_10','ps_calc_11','ps_calc_12','ps_calc_13','ps_calc_14','ps_calc_15_bin','ps_calc_16_bin','ps_calc_17_bin','ps_calc_18_bin','ps_calc_19_bin','ps_calc_20_bin'], axis =1)\n",
    "else:\n",
    "    print('val_nan got crazy!')\n",
    "\n",
    "# Naive Bayes with Personal Information only - Trained with Balanced Dataset\n",
    "clf_ind_GaussianNB = GaussianNB()\n",
    "clf_ind_GaussianNB.fit(x_train_data_balanced_ind,y_train_data_balanced_ind)\n",
    "result_ind_GaussianNB = clf_ind_GaussianNB.predict_proba(test_ind)\n",
    "\n",
    "# Support Vector Machine with Personal Information only - Trained with Balanced Dataset\n",
    "clf_ind_SVC = SVC(max_iter = 100,probability=True)\n",
    "clf_ind_SVC.fit(x_train_data_balanced_ind,y_train_data_balanced_ind)\n",
    "result_ind_SVC = clf_ind_SVC.predict_proba(test_ind)\n",
    "\n",
    "# Linear Model with Personal Information only - Trained with Balanced Dataset\n",
    "clf_ind_SGDClassifier = SGDClassifier(max_iter=5,loss = 'log')\n",
    "clf_ind_SGDClassifier.fit(x_train_data_balanced_ind,y_train_data_balanced_ind)\n",
    "result_ind_SGDClassifier = clf_ind_SGDClassifier.predict_proba(test_ind)\n",
    "\n",
    "# Random Forest with Personal Information only - Trained with Balanced Dataset\n",
    "clf_ind_RandomForestClassifier = RandomForestClassifier()\n",
    "clf_ind_RandomForestClassifier.fit(x_train_data_balanced_ind,y_train_data_balanced_ind)\n",
    "result_ind_RandomForestClassifier = clf_ind_RandomForestClassifier.predict_proba(test_ind)"
   ]
  },
  {
   "cell_type": "markdown",
   "metadata": {},
   "source": [
    "## Region Information Only"
   ]
  },
  {
   "cell_type": "code",
   "execution_count": 110,
   "metadata": {
    "collapsed": true
   },
   "outputs": [],
   "source": [
    "if val_nan == True:\n",
    "    ### Only Region Information with Nan Values\n",
    "    x_reg = train_data.drop(['target','id','ps_ind_01','ps_ind_02_cat','ps_ind_03','ps_ind_04_cat','ps_ind_05_cat','ps_ind_06_bin','ps_ind_07_bin','ps_ind_08_bin','ps_ind_09_bin','ps_ind_10_bin','ps_ind_11_bin','ps_ind_12_bin','ps_ind_13_bin','ps_ind_14','ps_ind_15','ps_ind_16_bin','ps_ind_17_bin','ps_ind_18_bin','ps_car_01_cat','ps_car_02_cat','ps_car_03_cat','ps_car_04_cat','ps_car_05_cat','ps_car_06_cat','ps_car_07_cat','ps_car_08_cat','ps_car_09_cat','ps_car_10_cat','ps_car_11_cat','ps_car_11','ps_car_12','ps_car_13','ps_car_14','ps_car_15','ps_calc_01','ps_calc_02','ps_calc_03','ps_calc_04','ps_calc_05','ps_calc_06','ps_calc_07','ps_calc_08','ps_calc_09','ps_calc_10','ps_calc_11','ps_calc_12','ps_calc_13','ps_calc_14','ps_calc_15_bin','ps_calc_16_bin','ps_calc_17_bin','ps_calc_18_bin','ps_calc_19_bin','ps_calc_20_bin'], axis =1)\n",
    "    y_reg = train_data[['target']]\n",
    "    test_reg = test_data.drop(['id','ps_ind_01','ps_ind_02_cat','ps_ind_03','ps_ind_04_cat','ps_ind_05_cat','ps_ind_06_bin','ps_ind_07_bin','ps_ind_08_bin','ps_ind_09_bin','ps_ind_10_bin','ps_ind_11_bin','ps_ind_12_bin','ps_ind_13_bin','ps_ind_14','ps_ind_15','ps_ind_16_bin','ps_ind_17_bin','ps_ind_18_bin','ps_car_01_cat','ps_car_02_cat','ps_car_03_cat','ps_car_04_cat','ps_car_05_cat','ps_car_06_cat','ps_car_07_cat','ps_car_08_cat','ps_car_09_cat','ps_car_10_cat','ps_car_11_cat','ps_car_11','ps_car_12','ps_car_13','ps_car_14','ps_car_15','ps_calc_01','ps_calc_02','ps_calc_03','ps_calc_04','ps_calc_05','ps_calc_06','ps_calc_07','ps_calc_08','ps_calc_09','ps_calc_10','ps_calc_11','ps_calc_12','ps_calc_13','ps_calc_14','ps_calc_15_bin','ps_calc_16_bin','ps_calc_17_bin','ps_calc_18_bin','ps_calc_19_bin','ps_calc_20_bin'], axis =1)\n",
    "elif val_nan == False:\n",
    "    ### Only Region Information without Nan Values\n",
    "    x_reg = train_data_clean.drop(['target','id','ps_ind_01','ps_ind_02_cat','ps_ind_03','ps_ind_04_cat','ps_ind_05_cat','ps_ind_06_bin','ps_ind_07_bin','ps_ind_08_bin','ps_ind_09_bin','ps_ind_10_bin','ps_ind_11_bin','ps_ind_12_bin','ps_ind_13_bin','ps_ind_14','ps_ind_15','ps_ind_16_bin','ps_ind_17_bin','ps_ind_18_bin','ps_car_01_cat','ps_car_02_cat','ps_car_03_cat','ps_car_04_cat','ps_car_05_cat','ps_car_06_cat','ps_car_07_cat','ps_car_08_cat','ps_car_09_cat','ps_car_10_cat','ps_car_11_cat','ps_car_11','ps_car_12','ps_car_13','ps_car_14','ps_car_15','ps_calc_01','ps_calc_02','ps_calc_03','ps_calc_04','ps_calc_05','ps_calc_06','ps_calc_07','ps_calc_08','ps_calc_09','ps_calc_10','ps_calc_11','ps_calc_12','ps_calc_13','ps_calc_14','ps_calc_15_bin','ps_calc_16_bin','ps_calc_17_bin','ps_calc_18_bin','ps_calc_19_bin','ps_calc_20_bin'], axis =1)\n",
    "    y_reg = train_data_clean[['target']]\n",
    "    test_reg = test_data_clean.drop(['id','ps_ind_01','ps_ind_02_cat','ps_ind_03','ps_ind_04_cat','ps_ind_05_cat','ps_ind_06_bin','ps_ind_07_bin','ps_ind_08_bin','ps_ind_09_bin','ps_ind_10_bin','ps_ind_11_bin','ps_ind_12_bin','ps_ind_13_bin','ps_ind_14','ps_ind_15','ps_ind_16_bin','ps_ind_17_bin','ps_ind_18_bin','ps_car_01_cat','ps_car_02_cat','ps_car_03_cat','ps_car_04_cat','ps_car_05_cat','ps_car_06_cat','ps_car_07_cat','ps_car_08_cat','ps_car_09_cat','ps_car_10_cat','ps_car_11_cat','ps_car_11','ps_car_12','ps_car_13','ps_car_14','ps_car_15','ps_calc_01','ps_calc_02','ps_calc_03','ps_calc_04','ps_calc_05','ps_calc_06','ps_calc_07','ps_calc_08','ps_calc_09','ps_calc_10','ps_calc_11','ps_calc_12','ps_calc_13','ps_calc_14','ps_calc_15_bin','ps_calc_16_bin','ps_calc_17_bin','ps_calc_18_bin','ps_calc_19_bin','ps_calc_20_bin'], axis =1)\n",
    "else:\n",
    "    print('val_nan got crazy!')\n",
    "\n",
    "# Naive Bayes with Region Information only - Trained with Balanced Dataset\n",
    "clf_reg_GaussianNB = GaussianNB()\n",
    "clf_reg_GaussianNB.fit(x_train_data_balanced_reg,y_train_data_balanced_reg)\n",
    "result_reg_GaussianNB = clf_reg_GaussianNB.predict_proba(test_reg)\n",
    "\n",
    "# Linear Model with Region Information only - Trained with Balanced Dataset\n",
    "clf_reg_SGDClassifier = SGDClassifier(max_iter=5,loss = 'log')\n",
    "clf_reg_SGDClassifier.fit(x_train_data_balanced_reg,y_train_data_balanced_reg)\n",
    "result_reg_SGDClassifier = clf_reg_SGDClassifier.predict_proba(test_reg)\n",
    "\n",
    "# Random Forest with Region Information only - Trained with Balanced Dataset\n",
    "clf_reg_RandomForestClassifier = RandomForestClassifier()\n",
    "clf_reg_RandomForestClassifier.fit(x_train_data_balanced_reg,y_train_data_balanced_reg)\n",
    "result_reg_RandomForestClassifier = clf_reg_RandomForestClassifier.predict_proba(test_reg)\n",
    "\n",
    "# Support Vector Machine with Region Information only - Trained with Balanced Dataset\n",
    "clf_reg_SVC = SVC(max_iter = 100,probability=True)\n",
    "clf_reg_SVC.fit(x_train_data_balanced_reg,y_train_data_balanced_reg)\n",
    "result_reg_SVC = clf_reg_SVC.predict_proba(test_reg)"
   ]
  },
  {
   "cell_type": "markdown",
   "metadata": {},
   "source": [
    "## Auto Information Only"
   ]
  },
  {
   "cell_type": "code",
   "execution_count": 111,
   "metadata": {
    "collapsed": true
   },
   "outputs": [],
   "source": [
    "if val_nan == True:\n",
    "    ### Only Auto Information with Nan Values\n",
    "    x_auto = train_data.drop(['target','id','ps_ind_01','ps_ind_02_cat','ps_ind_03','ps_ind_04_cat','ps_ind_05_cat','ps_ind_06_bin','ps_ind_07_bin','ps_ind_08_bin','ps_ind_09_bin','ps_ind_10_bin','ps_ind_11_bin','ps_ind_12_bin','ps_ind_13_bin','ps_ind_14','ps_ind_15','ps_ind_16_bin','ps_ind_17_bin','ps_ind_18_bin','ps_reg_01','ps_reg_02','ps_reg_03','ps_calc_01','ps_calc_02','ps_calc_03','ps_calc_04','ps_calc_05','ps_calc_06','ps_calc_07','ps_calc_08','ps_calc_09','ps_calc_10','ps_calc_11','ps_calc_12','ps_calc_13','ps_calc_14','ps_calc_15_bin','ps_calc_16_bin','ps_calc_17_bin','ps_calc_18_bin','ps_calc_19_bin','ps_calc_20_bin'], axis =1)\n",
    "    y_auto = train_data[['target']]\n",
    "    test_auto = test_data.drop(['id','ps_ind_01','ps_ind_02_cat','ps_ind_03','ps_ind_04_cat','ps_ind_05_cat','ps_ind_06_bin','ps_ind_07_bin','ps_ind_08_bin','ps_ind_09_bin','ps_ind_10_bin','ps_ind_11_bin','ps_ind_12_bin','ps_ind_13_bin','ps_ind_14','ps_ind_15','ps_ind_16_bin','ps_ind_17_bin','ps_ind_18_bin','ps_reg_01','ps_reg_02','ps_reg_03','ps_calc_01','ps_calc_02','ps_calc_03','ps_calc_04','ps_calc_05','ps_calc_06','ps_calc_07','ps_calc_08','ps_calc_09','ps_calc_10','ps_calc_11','ps_calc_12','ps_calc_13','ps_calc_14','ps_calc_15_bin','ps_calc_16_bin','ps_calc_17_bin','ps_calc_18_bin','ps_calc_19_bin','ps_calc_20_bin'], axis =1)\n",
    "elif val_nan == False:\n",
    "    ### Only Auto Information without Nan Values\n",
    "    x_auto = train_data_clean.drop(['target','id','ps_ind_01','ps_ind_02_cat','ps_ind_03','ps_ind_04_cat','ps_ind_05_cat','ps_ind_06_bin','ps_ind_07_bin','ps_ind_08_bin','ps_ind_09_bin','ps_ind_10_bin','ps_ind_11_bin','ps_ind_12_bin','ps_ind_13_bin','ps_ind_14','ps_ind_15','ps_ind_16_bin','ps_ind_17_bin','ps_ind_18_bin','ps_reg_01','ps_reg_02','ps_reg_03','ps_calc_01','ps_calc_02','ps_calc_03','ps_calc_04','ps_calc_05','ps_calc_06','ps_calc_07','ps_calc_08','ps_calc_09','ps_calc_10','ps_calc_11','ps_calc_12','ps_calc_13','ps_calc_14','ps_calc_15_bin','ps_calc_16_bin','ps_calc_17_bin','ps_calc_18_bin','ps_calc_19_bin','ps_calc_20_bin'], axis =1)\n",
    "    y_auto = train_data_clean[['target']]\n",
    "    test_auto = test_data_clean.drop(['id','ps_ind_01','ps_ind_02_cat','ps_ind_03','ps_ind_04_cat','ps_ind_05_cat','ps_ind_06_bin','ps_ind_07_bin','ps_ind_08_bin','ps_ind_09_bin','ps_ind_10_bin','ps_ind_11_bin','ps_ind_12_bin','ps_ind_13_bin','ps_ind_14','ps_ind_15','ps_ind_16_bin','ps_ind_17_bin','ps_ind_18_bin','ps_reg_01','ps_reg_02','ps_reg_03','ps_calc_01','ps_calc_02','ps_calc_03','ps_calc_04','ps_calc_05','ps_calc_06','ps_calc_07','ps_calc_08','ps_calc_09','ps_calc_10','ps_calc_11','ps_calc_12','ps_calc_13','ps_calc_14','ps_calc_15_bin','ps_calc_16_bin','ps_calc_17_bin','ps_calc_18_bin','ps_calc_19_bin','ps_calc_20_bin'], axis =1)\n",
    "else:\n",
    "    print('val_nan got crazy!')\n",
    "\n",
    "# Naive Bayes with Auto Information only - Trained with Balanced Dataset\n",
    "clf_car_GaussianNB = GaussianNB()\n",
    "clf_car_GaussianNB.fit(x_train_data_balanced_auto,y_train_data_balanced_auto)\n",
    "result_car_GaussianNB = clf_car_GaussianNB.predict_proba(test_auto)\n",
    "\n",
    "# Linear Model with Auto Information only - Trained with Balanced Dataset\n",
    "clf_car_SGDClassifier = SGDClassifier(max_iter=5,loss = 'log')\n",
    "clf_car_SGDClassifier.fit(x_train_data_balanced_auto,y_train_data_balanced_auto)\n",
    "result_car_SGDClassifier = clf_car_SGDClassifier.predict_proba(test_auto)\n",
    "\n",
    "# Random Forest with Auto Information only - Trained with Balanced Dataset\n",
    "clf_car_RandomForestClassifier = RandomForestClassifier()\n",
    "clf_car_RandomForestClassifier.fit(x_train_data_balanced_auto,y_train_data_balanced_auto)\n",
    "result_car_RandomForestClassifier = clf_car_RandomForestClassifier.predict_proba(test_auto)\n",
    "\n",
    "# Support Vector Machine with Auto Information only - Trained with Balanced Dataset\n",
    "clf_car_SVC = SVC(max_iter = 100,probability=True)\n",
    "clf_car_SVC.fit(x_train_data_balanced_auto,y_train_data_balanced_auto)\n",
    "result_car_SVC = clf_car_SVC.predict_proba(test_auto)"
   ]
  },
  {
   "cell_type": "markdown",
   "metadata": {},
   "source": [
    "## Calc Information Only"
   ]
  },
  {
   "cell_type": "code",
   "execution_count": 112,
   "metadata": {
    "collapsed": true
   },
   "outputs": [],
   "source": [
    "if val_nan == True:\n",
    "    ### Only calculated Information with Nan Values\n",
    "    x_calc = train_data.drop(['target','id','ps_ind_01','ps_ind_02_cat','ps_ind_03','ps_ind_04_cat','ps_ind_05_cat','ps_ind_06_bin','ps_ind_07_bin','ps_ind_08_bin','ps_ind_09_bin','ps_ind_10_bin','ps_ind_11_bin','ps_ind_12_bin','ps_ind_13_bin','ps_ind_14','ps_ind_15','ps_ind_16_bin','ps_ind_17_bin','ps_ind_18_bin','ps_reg_01','ps_reg_02','ps_reg_03','ps_car_01_cat','ps_car_02_cat','ps_car_03_cat','ps_car_04_cat','ps_car_05_cat','ps_car_06_cat','ps_car_07_cat','ps_car_08_cat','ps_car_09_cat','ps_car_10_cat','ps_car_11_cat','ps_car_11','ps_car_12','ps_car_13','ps_car_14','ps_car_15'], axis =1)\n",
    "    y_calc = train_data[['target']]\n",
    "    test_calc = test_data.drop(['id','ps_ind_01','ps_ind_02_cat','ps_ind_03','ps_ind_04_cat','ps_ind_05_cat','ps_ind_06_bin','ps_ind_07_bin','ps_ind_08_bin','ps_ind_09_bin','ps_ind_10_bin','ps_ind_11_bin','ps_ind_12_bin','ps_ind_13_bin','ps_ind_14','ps_ind_15','ps_ind_16_bin','ps_ind_17_bin','ps_ind_18_bin','ps_reg_01','ps_reg_02','ps_reg_03','ps_car_01_cat','ps_car_02_cat','ps_car_03_cat','ps_car_04_cat','ps_car_05_cat','ps_car_06_cat','ps_car_07_cat','ps_car_08_cat','ps_car_09_cat','ps_car_10_cat','ps_car_11_cat','ps_car_11','ps_car_12','ps_car_13','ps_car_14','ps_car_15'], axis =1)\n",
    "elif val_nan == False:\n",
    "    ### Only calculated Information without Nan Values\n",
    "    x_calc = train_data_clean.drop(['target','id','ps_ind_01','ps_ind_02_cat','ps_ind_03','ps_ind_04_cat','ps_ind_05_cat','ps_ind_06_bin','ps_ind_07_bin','ps_ind_08_bin','ps_ind_09_bin','ps_ind_10_bin','ps_ind_11_bin','ps_ind_12_bin','ps_ind_13_bin','ps_ind_14','ps_ind_15','ps_ind_16_bin','ps_ind_17_bin','ps_ind_18_bin','ps_reg_01','ps_reg_02','ps_reg_03','ps_car_01_cat','ps_car_02_cat','ps_car_03_cat','ps_car_04_cat','ps_car_05_cat','ps_car_06_cat','ps_car_07_cat','ps_car_08_cat','ps_car_09_cat','ps_car_10_cat','ps_car_11_cat','ps_car_11','ps_car_12','ps_car_13','ps_car_14','ps_car_15'], axis =1)\n",
    "    y_calc = train_data_clean[['target']]\n",
    "    test_calc = test_data_clean.drop(['id','ps_ind_01','ps_ind_02_cat','ps_ind_03','ps_ind_04_cat','ps_ind_05_cat','ps_ind_06_bin','ps_ind_07_bin','ps_ind_08_bin','ps_ind_09_bin','ps_ind_10_bin','ps_ind_11_bin','ps_ind_12_bin','ps_ind_13_bin','ps_ind_14','ps_ind_15','ps_ind_16_bin','ps_ind_17_bin','ps_ind_18_bin','ps_reg_01','ps_reg_02','ps_reg_03','ps_car_01_cat','ps_car_02_cat','ps_car_03_cat','ps_car_04_cat','ps_car_05_cat','ps_car_06_cat','ps_car_07_cat','ps_car_08_cat','ps_car_09_cat','ps_car_10_cat','ps_car_11_cat','ps_car_11','ps_car_12','ps_car_13','ps_car_14','ps_car_15'], axis =1)\n",
    "else:\n",
    "    print('val_nan got crazy!')\n",
    "\n",
    "# Naive Bayes with Calculated Information only - Trained with Balanced Dataset\n",
    "clf_calc_GaussianNB = GaussianNB()\n",
    "clf_calc_GaussianNB.fit(x_train_data_balanced_calc,y_train_data_balanced_calc)\n",
    "result_calc_GaussianNB = clf_calc_GaussianNB.predict_proba(test_calc)\n",
    "\n",
    "# Linear Model with Calculated Information only - Trained with Balanced Dataset\n",
    "clf_calc_SGDClassifier = SGDClassifier(max_iter=5,loss = 'log')\n",
    "clf_calc_SGDClassifier.fit(x_train_data_balanced_calc,y_train_data_balanced_calc)\n",
    "result_calc_SGDClassifier = clf_calc_SGDClassifier.predict_proba(test_calc)\n",
    "\n",
    "# Random Forest with Calculated Information only - Trained with Balanced Dataset\n",
    "clf_calc_RandomForestClassifier = RandomForestClassifier()\n",
    "clf_calc_RandomForestClassifier.fit(x_train_data_balanced_calc,y_train_data_balanced_calc)\n",
    "result_calc_RandomForestClassifier = clf_calc_RandomForestClassifier.predict_proba(test_calc)\n",
    "\n",
    "# Support Vector Machine with Calculated Information only - Trained with Balanced Dataset\n",
    "clf_calc_SVC = SVC(max_iter = 100,probability=True)\n",
    "clf_calc_SVC.fit(x_train_data_balanced_calc,y_train_data_balanced_calc)\n",
    "result_calc_SVC = clf_calc_SVC.predict_proba(test_calc)"
   ]
  },
  {
   "cell_type": "markdown",
   "metadata": {},
   "source": [
    "## For best features will be applied SelectKBest, VarianceThreshold, SelectPercentile\n",
    "\n",
    "### Classification algorithms applied - chi2 and f_classif"
   ]
  },
  {
   "cell_type": "markdown",
   "metadata": {},
   "source": [
    "## Variance Threshold"
   ]
  },
  {
   "cell_type": "code",
   "execution_count": 113,
   "metadata": {
    "collapsed": true
   },
   "outputs": [],
   "source": [
    "# Data Selection - Features\n",
    "\n",
    "# Import the Feature Selection Library\n",
    "from sklearn.feature_selection import SelectKBest, VarianceThreshold, SelectPercentile, chi2, f_classif\n",
    "\n",
    "# Split train_data without missing values\n",
    "x_train_data_selection = train_data_clean.drop(['id','target'], axis = 1)\n",
    "y_train_data_selection = train_data_clean[['target']]\n",
    "\n",
    "# New Array of Features without ID and Target\n",
    "features_train_selection = ['ps_ind_01','ps_ind_02_cat','ps_ind_03','ps_ind_04_cat','ps_ind_05_cat','ps_ind_06_bin','ps_ind_07_bin','ps_ind_08_bin','ps_ind_09_bin','ps_ind_10_bin','ps_ind_11_bin','ps_ind_12_bin','ps_ind_13_bin','ps_ind_14','ps_ind_15','ps_ind_16_bin','ps_ind_17_bin','ps_ind_18_bin','ps_reg_01','ps_reg_02','ps_reg_03','ps_car_01_cat','ps_car_02_cat','ps_car_03_cat','ps_car_04_cat','ps_car_05_cat','ps_car_06_cat','ps_car_07_cat','ps_car_08_cat','ps_car_09_cat','ps_car_10_cat','ps_car_11_cat','ps_car_11','ps_car_12','ps_car_13','ps_car_14','ps_car_15','ps_calc_01','ps_calc_02','ps_calc_03','ps_calc_04','ps_calc_05','ps_calc_06','ps_calc_07','ps_calc_08','ps_calc_09','ps_calc_10','ps_calc_11','ps_calc_12','ps_calc_13','ps_calc_14','ps_calc_15_bin','ps_calc_16_bin','ps_calc_17_bin','ps_calc_18_bin','ps_calc_19_bin','ps_calc_20_bin']\n",
    "features_test_selection = ['ps_ind_01','ps_ind_02_cat','ps_ind_03','ps_ind_04_cat','ps_ind_05_cat','ps_ind_06_bin','ps_ind_07_bin','ps_ind_08_bin','ps_ind_09_bin','ps_ind_10_bin','ps_ind_11_bin','ps_ind_12_bin','ps_ind_13_bin','ps_ind_14','ps_ind_15','ps_ind_16_bin','ps_ind_17_bin','ps_ind_18_bin','ps_reg_01','ps_reg_02','ps_reg_03','ps_car_01_cat','ps_car_02_cat','ps_car_03_cat','ps_car_04_cat','ps_car_05_cat','ps_car_06_cat','ps_car_07_cat','ps_car_08_cat','ps_car_09_cat','ps_car_10_cat','ps_car_11_cat','ps_car_11','ps_car_12','ps_car_13','ps_car_14','ps_car_15','ps_calc_01','ps_calc_02','ps_calc_03','ps_calc_04','ps_calc_05','ps_calc_06','ps_calc_07','ps_calc_08','ps_calc_09','ps_calc_10','ps_calc_11','ps_calc_12','ps_calc_13','ps_calc_14','ps_calc_15_bin','ps_calc_16_bin','ps_calc_17_bin','ps_calc_18_bin','ps_calc_19_bin','ps_calc_20_bin']"
   ]
  },
  {
   "cell_type": "markdown",
   "metadata": {},
   "source": [
    "## Threshold Selection"
   ]
  },
  {
   "cell_type": "code",
   "execution_count": 114,
   "metadata": {
    "collapsed": true
   },
   "outputs": [],
   "source": [
    "# Threshold for VarianceThreshold\n",
    "thresholdforpreprocessing = 0.1"
   ]
  },
  {
   "cell_type": "code",
   "execution_count": 115,
   "metadata": {
    "collapsed": true
   },
   "outputs": [],
   "source": [
    "# Apply VarianceThreshold to train_data\n",
    "selector = VarianceThreshold(threshold=thresholdforpreprocessing)\n",
    "variance_train_data = selector.fit_transform(x_train_data_selection,y_train_data_selection)\n",
    "\n",
    "# Get Features from train_data - VarianceThreshold\n",
    "variance_array = selector.get_support()\n",
    "\n",
    "# Create list for feaatures that are removed through VarianceThreshold\n",
    "variance_values_removed = []\n",
    "variance_values_maintained = []\n",
    "\n",
    "# List to Store the Features that are removed\n",
    "for i in range(len(variance_array)):\n",
    "    if variance_array[i] == False:\n",
    "        variance_values_removed.insert(i,features_train_selection[i])\n",
    "    else:\n",
    "        variance_values_maintained.insert(i,features_train_selection[i])"
   ]
  },
  {
   "cell_type": "code",
   "execution_count": 116,
   "metadata": {},
   "outputs": [
    {
     "name": "stdout",
     "output_type": "stream",
     "text": [
      "Features removed through VarianceThreshold:\n",
      "['ps_ind_10_bin', 'ps_ind_11_bin', 'ps_ind_12_bin', 'ps_ind_13_bin', 'ps_ind_14', 'ps_reg_01', 'ps_car_07_cat', 'ps_car_10_cat', 'ps_car_12', 'ps_car_13', 'ps_car_14', 'ps_calc_01', 'ps_calc_02', 'ps_calc_03']\n"
     ]
    }
   ],
   "source": [
    "# Features removed through VarianceThreshold\n",
    "print('Features removed through VarianceThreshold:')\n",
    "print(variance_values_removed)"
   ]
  },
  {
   "cell_type": "code",
   "execution_count": 117,
   "metadata": {},
   "outputs": [
    {
     "data": {
      "text/plain": [
       "14"
      ]
     },
     "execution_count": 117,
     "metadata": {},
     "output_type": "execute_result"
    }
   ],
   "source": [
    "# Amount of features Removed\n",
    "len(variance_values_removed)"
   ]
  },
  {
   "cell_type": "code",
   "execution_count": 118,
   "metadata": {},
   "outputs": [
    {
     "name": "stdout",
     "output_type": "stream",
     "text": [
      "Features maintained:\n",
      "['ps_ind_01', 'ps_ind_02_cat', 'ps_ind_03', 'ps_ind_04_cat', 'ps_ind_05_cat', 'ps_ind_06_bin', 'ps_ind_07_bin', 'ps_ind_08_bin', 'ps_ind_09_bin', 'ps_ind_15', 'ps_ind_16_bin', 'ps_ind_17_bin', 'ps_ind_18_bin', 'ps_reg_02', 'ps_reg_03', 'ps_car_01_cat', 'ps_car_02_cat', 'ps_car_03_cat', 'ps_car_04_cat', 'ps_car_05_cat', 'ps_car_06_cat', 'ps_car_08_cat', 'ps_car_09_cat', 'ps_car_11_cat', 'ps_car_11', 'ps_car_15', 'ps_calc_04', 'ps_calc_05', 'ps_calc_06', 'ps_calc_07', 'ps_calc_08', 'ps_calc_09', 'ps_calc_10', 'ps_calc_11', 'ps_calc_12', 'ps_calc_13', 'ps_calc_14', 'ps_calc_15_bin', 'ps_calc_16_bin', 'ps_calc_17_bin', 'ps_calc_18_bin', 'ps_calc_19_bin', 'ps_calc_20_bin']\n"
     ]
    }
   ],
   "source": [
    "#Features maintained\n",
    "print('Features maintained:')\n",
    "print(variance_values_maintained)"
   ]
  },
  {
   "cell_type": "code",
   "execution_count": 119,
   "metadata": {},
   "outputs": [
    {
     "data": {
      "text/plain": [
       "43"
      ]
     },
     "execution_count": 119,
     "metadata": {},
     "output_type": "execute_result"
    }
   ],
   "source": [
    "# Amount of features Maintained\n",
    "len(variance_values_maintained)"
   ]
  },
  {
   "cell_type": "markdown",
   "metadata": {},
   "source": [
    "## SelectPercentile"
   ]
  },
  {
   "cell_type": "markdown",
   "metadata": {},
   "source": [
    "## Percentage of Features to keep"
   ]
  },
  {
   "cell_type": "code",
   "execution_count": 120,
   "metadata": {
    "collapsed": true
   },
   "outputs": [],
   "source": [
    "# Percentage of Features to keep (%)\n",
    "select_percentile = 50"
   ]
  },
  {
   "cell_type": "code",
   "execution_count": 121,
   "metadata": {},
   "outputs": [
    {
     "name": "stdout",
     "output_type": "stream",
     "text": [
      "Amount of features maintained after select percentile\n",
      "21\n"
     ]
    }
   ],
   "source": [
    "# Amount of features after SelectPercentile\n",
    "percentile_features_maintained = int(0.5*len(variance_values_maintained))\n",
    "print('Amount of features maintained after select percentile')\n",
    "print(percentile_features_maintained)"
   ]
  },
  {
   "cell_type": "code",
   "execution_count": 122,
   "metadata": {},
   "outputs": [
    {
     "name": "stdout",
     "output_type": "stream",
     "text": [
      "Percentage of Features Removed:\n",
      "50\n"
     ]
    }
   ],
   "source": [
    "print('Percentage of Features Removed:')\n",
    "print(select_percentile)"
   ]
  },
  {
   "cell_type": "code",
   "execution_count": 123,
   "metadata": {
    "collapsed": true
   },
   "outputs": [],
   "source": [
    "# Drop the Features from VarianceThreshold\n",
    "x_train_data_selectpercentile = x_train_data_selection.drop(variance_values_removed, axis=1)\n",
    "y_train_data_selectpercentile = y_train_data_selection\n",
    "\n",
    "# Apply SelectPercentile to train data - Evaluation chi2\n",
    "percentile = SelectPercentile(chi2, percentile = select_percentile)\n",
    "percentile_train_data = percentile.fit(x_train_data_selectpercentile,y_train_data_selectpercentile)\n",
    "\n",
    "# Get Features from train_data_selection - SelectPercentile\n",
    "percentile_array = percentile_train_data.get_support()\n",
    "\n",
    "# Create list for feaatures that are removed through SelectPercentile\n",
    "percentile_values_removed = []\n",
    "percentile_values_maintained = []\n",
    "\n",
    "# List to Store the Features that are removed\n",
    "for i in range(len(percentile_array)):\n",
    "    if percentile_array[i] == False:\n",
    "        percentile_values_removed.insert(i,variance_values_maintained[i])\n",
    "    else:\n",
    "        percentile_values_maintained.insert(i,variance_values_maintained[i])"
   ]
  },
  {
   "cell_type": "code",
   "execution_count": 124,
   "metadata": {},
   "outputs": [
    {
     "name": "stdout",
     "output_type": "stream",
     "text": [
      "Features removed through SelectPercentile:\n",
      "['ps_ind_02_cat', 'ps_ind_18_bin', 'ps_car_05_cat', 'ps_car_09_cat', 'ps_car_11', 'ps_calc_04', 'ps_calc_05', 'ps_calc_06', 'ps_calc_07', 'ps_calc_08', 'ps_calc_09', 'ps_calc_10', 'ps_calc_11', 'ps_calc_12', 'ps_calc_13', 'ps_calc_14', 'ps_calc_15_bin', 'ps_calc_16_bin', 'ps_calc_17_bin', 'ps_calc_18_bin', 'ps_calc_19_bin', 'ps_calc_20_bin']\n"
     ]
    }
   ],
   "source": [
    "# Features removed through SelectPercentile\n",
    "print('Features removed through SelectPercentile:')\n",
    "print(percentile_values_removed)"
   ]
  },
  {
   "cell_type": "code",
   "execution_count": 125,
   "metadata": {},
   "outputs": [
    {
     "data": {
      "text/plain": [
       "22"
      ]
     },
     "execution_count": 125,
     "metadata": {},
     "output_type": "execute_result"
    }
   ],
   "source": [
    "# Amount of features Removed\n",
    "len(percentile_values_removed)"
   ]
  },
  {
   "cell_type": "code",
   "execution_count": 126,
   "metadata": {},
   "outputs": [
    {
     "name": "stdout",
     "output_type": "stream",
     "text": [
      "Features maintained:\n",
      "['ps_ind_01', 'ps_ind_03', 'ps_ind_04_cat', 'ps_ind_05_cat', 'ps_ind_06_bin', 'ps_ind_07_bin', 'ps_ind_08_bin', 'ps_ind_09_bin', 'ps_ind_15', 'ps_ind_16_bin', 'ps_ind_17_bin', 'ps_reg_02', 'ps_reg_03', 'ps_car_01_cat', 'ps_car_02_cat', 'ps_car_03_cat', 'ps_car_04_cat', 'ps_car_06_cat', 'ps_car_08_cat', 'ps_car_11_cat', 'ps_car_15']\n"
     ]
    }
   ],
   "source": [
    "#Features maintained\n",
    "print('Features maintained:')\n",
    "print(percentile_values_maintained)"
   ]
  },
  {
   "cell_type": "code",
   "execution_count": 127,
   "metadata": {},
   "outputs": [
    {
     "data": {
      "text/plain": [
       "21"
      ]
     },
     "execution_count": 127,
     "metadata": {},
     "output_type": "execute_result"
    }
   ],
   "source": [
    "# Amount of features Maintained\n",
    "len(percentile_values_maintained)"
   ]
  },
  {
   "cell_type": "markdown",
   "metadata": {},
   "source": [
    "## SelectKBest"
   ]
  },
  {
   "cell_type": "markdown",
   "metadata": {},
   "source": [
    "## Amount of Features to keep - (80% from remaining features)"
   ]
  },
  {
   "cell_type": "code",
   "execution_count": 128,
   "metadata": {
    "collapsed": true
   },
   "outputs": [],
   "source": [
    "# Amount of Features to keep - SelectKBest\n",
    "kbest_features = int(0.8*(len(percentile_values_maintained)))"
   ]
  },
  {
   "cell_type": "code",
   "execution_count": 129,
   "metadata": {},
   "outputs": [
    {
     "name": "stdout",
     "output_type": "stream",
     "text": [
      "Amount of features maintained after KBest\n",
      "16\n"
     ]
    }
   ],
   "source": [
    "# Amount of features after K Best\n",
    "print('Amount of features maintained after KBest')\n",
    "print(kbest_features)"
   ]
  },
  {
   "cell_type": "code",
   "execution_count": 130,
   "metadata": {
    "collapsed": true
   },
   "outputs": [],
   "source": [
    "# Drop the Features from SelectPercentile\n",
    "x_train_data_kbest = x_train_data_selectpercentile.drop(percentile_values_removed, axis=1)\n",
    "y_train_data_kbest = y_train_data_selectpercentile\n",
    "\n",
    "# Apply SelectKBest to data - Evaluation f_classif\n",
    "selectK = SelectKBest(f_classif, k=kbest_features)\n",
    "selectK_train_data = selectK.fit(x_train_data_kbest,y_train_data_kbest)\n",
    "\n",
    "# Get Features from train_data_percentile - SelectKBest\n",
    "selectK_array = selectK_train_data.get_support()\n",
    "\n",
    "# Create list for feaatures that are removed through SelectKBest\n",
    "selectK_values_removed = []\n",
    "selectK_values_maintained = []\n",
    "\n",
    "# List to Store the Features that are removed\n",
    "for i in range(len(selectK_array)):\n",
    "    if selectK_array[i] == False:\n",
    "        selectK_values_removed.insert(i,percentile_values_maintained[i])\n",
    "    else:\n",
    "        selectK_values_maintained.insert(i,percentile_values_maintained[i])"
   ]
  },
  {
   "cell_type": "code",
   "execution_count": 131,
   "metadata": {},
   "outputs": [
    {
     "name": "stdout",
     "output_type": "stream",
     "text": [
      "Features removed through SelectKBest:\n",
      "['ps_ind_03', 'ps_ind_04_cat', 'ps_car_06_cat', 'ps_car_08_cat', 'ps_car_11_cat']\n"
     ]
    }
   ],
   "source": [
    "# Features removed through SelectKBest\n",
    "print('Features removed through SelectKBest:')\n",
    "print(selectK_values_removed)"
   ]
  },
  {
   "cell_type": "code",
   "execution_count": 132,
   "metadata": {},
   "outputs": [
    {
     "data": {
      "text/plain": [
       "5"
      ]
     },
     "execution_count": 132,
     "metadata": {},
     "output_type": "execute_result"
    }
   ],
   "source": [
    "# Amount of features Removed\n",
    "len(selectK_values_removed)"
   ]
  },
  {
   "cell_type": "code",
   "execution_count": 133,
   "metadata": {},
   "outputs": [
    {
     "name": "stdout",
     "output_type": "stream",
     "text": [
      "Features maintained:\n",
      "['ps_ind_01', 'ps_ind_05_cat', 'ps_ind_06_bin', 'ps_ind_07_bin', 'ps_ind_08_bin', 'ps_ind_09_bin', 'ps_ind_15', 'ps_ind_16_bin', 'ps_ind_17_bin', 'ps_reg_02', 'ps_reg_03', 'ps_car_01_cat', 'ps_car_02_cat', 'ps_car_03_cat', 'ps_car_04_cat', 'ps_car_15']\n"
     ]
    }
   ],
   "source": [
    "#Features maintained\n",
    "print('Features maintained:')\n",
    "print(selectK_values_maintained)"
   ]
  },
  {
   "cell_type": "code",
   "execution_count": 134,
   "metadata": {},
   "outputs": [
    {
     "data": {
      "text/plain": [
       "16"
      ]
     },
     "execution_count": 134,
     "metadata": {},
     "output_type": "execute_result"
    }
   ],
   "source": [
    "# Amount of features Maintained\n",
    "len(selectK_values_maintained)"
   ]
  },
  {
   "cell_type": "markdown",
   "metadata": {},
   "source": [
    "## Scoring probability with Best Features only"
   ]
  },
  {
   "cell_type": "code",
   "execution_count": 135,
   "metadata": {
    "collapsed": true
   },
   "outputs": [],
   "source": [
    "# Scoring with Features Selected - Best Only\n",
    "\n",
    "if val_nan == True:\n",
    "    ### Best Features Only\n",
    "    ## First Set of Features\n",
    "    #(Removed Auto Information and Calculated Information) with Nan Values\n",
    "    x_best = train_data[selectK_values_maintained]\n",
    "    y_best = train_data[['target']]\n",
    "    test_best = test_data[selectK_values_maintained]\n",
    "elif val_nan == False:\n",
    "    #(Removed Auto Information and Calculated Information) without Nan Values\n",
    "    x_best = train_data_clean[selectK_values_maintained]\n",
    "    y_best = train_data_clean[['target']]\n",
    "    test_best = test_data_clean[selectK_values_maintained]\n",
    "else:\n",
    "    print('val_nan got crazy!')"
   ]
  },
  {
   "cell_type": "markdown",
   "metadata": {},
   "source": [
    "## Since some algorithms don't run with missing values, it will be imput values"
   ]
  },
  {
   "cell_type": "markdown",
   "metadata": {},
   "source": [
    "## IF Condition to imput values\n",
    "\n",
    "**False** - Don't imput values\n",
    "\n",
    "**True** - Imput values"
   ]
  },
  {
   "cell_type": "code",
   "execution_count": 136,
   "metadata": {
    "collapsed": true
   },
   "outputs": [],
   "source": [
    "# Imput Missing Values\n",
    "missingvaluesimput = False"
   ]
  },
  {
   "cell_type": "code",
   "execution_count": 137,
   "metadata": {},
   "outputs": [
    {
     "name": "stdout",
     "output_type": "stream",
     "text": [
      "No Imput Values has been made\n"
     ]
    }
   ],
   "source": [
    "#Imputing missing values for both train and test\n",
    "if missingvaluesimput == True:\n",
    "    x_best.fillna(-999, inplace=True)\n",
    "    test_best.fillna(-999,inplace=True)\n",
    "else:\n",
    "    print('No Imput Values has been made')"
   ]
  },
  {
   "cell_type": "markdown",
   "metadata": {},
   "source": [
    "## IF Condition to run best features on techniques\n",
    "\n",
    "**False** - Don't run\n",
    "\n",
    "**True** - Run"
   ]
  },
  {
   "cell_type": "code",
   "execution_count": 138,
   "metadata": {
    "collapsed": true
   },
   "outputs": [],
   "source": [
    "# Use the 4 Techniques\n",
    "techuse = False"
   ]
  },
  {
   "cell_type": "code",
   "execution_count": 139,
   "metadata": {},
   "outputs": [
    {
     "name": "stdout",
     "output_type": "stream",
     "text": [
      "4 techniques not used\n"
     ]
    }
   ],
   "source": [
    "if techuse == True:\n",
    "\n",
    "    # Naive Bayes with Best Information only\n",
    "    clf_best_GaussianNB = GaussianNB()\n",
    "    clf_best_GaussianNB.fit(x_best,y_best)\n",
    "    result_best_GaussianNB = clf_best_GaussianNB.predict_proba(test_best)\n",
    "\n",
    "    # Linear Model with Best Information only\n",
    "    clf_best_SGDClassifier = SGDClassifier(max_iter=5,loss = 'log')\n",
    "    clf_best_SGDClassifier.fit(x_best,y_best)\n",
    "    result_best_SGDClassifier = clf_best_SGDClassifier.predict_proba(test_best)\n",
    "\n",
    "    # Random Forest with Best Information only\n",
    "    clf_best_RandomForestClassifier = RandomForestClassifier()\n",
    "    clf_best_RandomForestClassifier.fit(x_best,y_best)\n",
    "    result_best_RandomForestClassifier = clf_best_RandomForestClassifier.predict_proba(test_best)\n",
    "\n",
    "    # Support Vector Machine with Best Information only\n",
    "    clf_best_SVC = SVC(max_iter = 100,probability=True)\n",
    "    clf_best_SVC.fit(x_best,y_best)\n",
    "    result_best_SVC = clf_best_SVC.predict_proba(test_best)\n",
    "else:\n",
    "    print('4 techniques not used')   "
   ]
  },
  {
   "cell_type": "markdown",
   "metadata": {},
   "source": [
    "## Tryouts with others classifiers"
   ]
  },
  {
   "cell_type": "code",
   "execution_count": 140,
   "metadata": {
    "collapsed": true
   },
   "outputs": [],
   "source": [
    "# Try outs with another techniques - Best Features only\n",
    "# Import Library\n",
    "from sklearn.ensemble import AdaBoostClassifier\n",
    "from sklearn.tree import DecisionTreeClassifier\n",
    "from catboost import CatBoostClassifier\n",
    "from sklearn.gaussian_process import GaussianProcessClassifier\n",
    "from sklearn.neighbors import KNeighborsClassifier\n",
    "from xgboost import XGBClassifier"
   ]
  },
  {
   "cell_type": "markdown",
   "metadata": {},
   "source": [
    "## IF Condition to run best features on other techniques\n",
    "\n",
    "**False** - Don't run\n",
    "\n",
    "**True** - Run"
   ]
  },
  {
   "cell_type": "code",
   "execution_count": 141,
   "metadata": {
    "collapsed": true
   },
   "outputs": [],
   "source": [
    "# Use others techniques\n",
    "otherstechuse = False"
   ]
  },
  {
   "cell_type": "code",
   "execution_count": 142,
   "metadata": {},
   "outputs": [
    {
     "name": "stdout",
     "output_type": "stream",
     "text": [
      "No other techniques has been used\n"
     ]
    }
   ],
   "source": [
    "if otherstechuse == True:\n",
    "\n",
    "    # Decision Tree Regression with best Information Only\n",
    "    clf_best_DecisionTreeClassifier = DecisionTreeClassifier()\n",
    "    clf_best_DecisionTreeClassifier.fit(x_best,y_best)\n",
    "    result_best_DecisionTreeClassifier = clf_best_DecisionTreeClassifier.predict_proba(test_best)\n",
    "\n",
    "    # AdaBoost Regressor with best Information only\n",
    "    clf_best_AdaBoostClassifier = AdaBoostClassifier()\n",
    "    clf_best_AdaBoostClassifier.fit(x_best,y_best)\n",
    "    result_best_AdaBoostClassifier = clf_best_AdaBoostClassifier.predict_proba(test_best)\n",
    "\n",
    "    # Gaussian Process Classifier with best Information only\n",
    "    clf_best_GaussianProcessClassifier = GaussianProcessClassifier()\n",
    "    clf_best_GaussianProcessClassifier.fit(x_best,y_best)\n",
    "    result_best_GaussianProcessClassifier = clf_best_GaussianProcessClassifier.predict_proba(test_best)\n",
    "\n",
    "    # K Nearest Neighboor Regressor with best Information only\n",
    "    clf_best_KNeighborsClassifier = KNeighborsClassifier()\n",
    "    clf_best_KNeighborsClassifier.fit(x_best,y_best)\n",
    "    result_best_KNeighborsClassifier = clf_best_KNeighborsClassifier.predict_proba(test_best)\n",
    "\n",
    "    # Passive Aggressive Regressor with best Information only\n",
    "    clf_best_PassiveAggressiveClassifier = PassiveAggressiveClassifier()\n",
    "    clf_best_PassiveAggressiveClassifier.fit(x_best,y_best)\n",
    "    result_best_PassiveAggressiveClassifier = clf_best_PassiveAggressiveClassifier.predict_proba(test_best)\n",
    "else:\n",
    "    print('No other techniques has been used')"
   ]
  },
  {
   "cell_type": "markdown",
   "metadata": {},
   "source": [
    "## There are 2 great classifiers often used on Competition\n",
    "\n",
    "- **CatBoost**\n",
    "- **XGBoost**"
   ]
  },
  {
   "cell_type": "markdown",
   "metadata": {},
   "source": [
    "## IF Condition to run best features on CatBoost\n",
    "\n",
    "**False** - Don't run\n",
    "\n",
    "**True** - Run"
   ]
  },
  {
   "cell_type": "code",
   "execution_count": 143,
   "metadata": {
    "collapsed": true
   },
   "outputs": [],
   "source": [
    "# The best 2 algorithms\n",
    "\n",
    "# Wanna use CatBoost\n",
    "catboostuse = False"
   ]
  },
  {
   "cell_type": "code",
   "execution_count": 144,
   "metadata": {},
   "outputs": [
    {
     "name": "stdout",
     "output_type": "stream",
     "text": [
      "Cat Boost has not been used\n"
     ]
    }
   ],
   "source": [
    "if catboostuse == True:\n",
    "    \n",
    "    # Cat Boost Regressor with best Information only\n",
    "    clf_best_CatBoostClassifier = CatBoostClassifier()\n",
    "    clf_best_CatBoostClassifier.fit(x_best,y_best)\n",
    "    result_best_CatBoostClassifier = clf_best_CatBoostClassifier.predict_proba(test_best)\n",
    "else:\n",
    "    print ('Cat Boost has not been used')"
   ]
  },
  {
   "cell_type": "markdown",
   "metadata": {},
   "source": [
    "## IF Condition to run best features on XGBoost\n",
    "\n",
    "**False** - Don't run\n",
    "\n",
    "**True** - Run"
   ]
  },
  {
   "cell_type": "code",
   "execution_count": 145,
   "metadata": {
    "collapsed": true
   },
   "outputs": [],
   "source": [
    "# Wanna use XGB\n",
    "xgboostuse = True"
   ]
  },
  {
   "cell_type": "code",
   "execution_count": 146,
   "metadata": {
    "collapsed": true
   },
   "outputs": [],
   "source": [
    "if xgboostuse == True:\n",
    "\n",
    "    # XGBoost with best Information only\n",
    "    clf_best_XGB = XGBClassifier()\n",
    "    clf_best_XGB.fit(x_best,y_best)\n",
    "    result_best_XGB = clf_best_XGB.predict_proba(test_best)\n",
    "else:\n",
    "    print('XGB has not been used')    "
   ]
  },
  {
   "cell_type": "markdown",
   "metadata": {},
   "source": [
    "## IF Condition to run best features on SVC, GaussianNB, SGDClassifier and RandomForestClassifier\n",
    "\n",
    "**False** - Don't run\n",
    "\n",
    "**True** - Run"
   ]
  },
  {
   "cell_type": "code",
   "execution_count": 147,
   "metadata": {
    "collapsed": true
   },
   "outputs": [],
   "source": [
    "best_training = True"
   ]
  },
  {
   "cell_type": "markdown",
   "metadata": {},
   "source": [
    "## Naive Bayes with Balanced data and Best Features"
   ]
  },
  {
   "cell_type": "code",
   "execution_count": 148,
   "metadata": {
    "collapsed": true
   },
   "outputs": [],
   "source": [
    "x_train_data_balanced_pre = pd.DataFrame(data = x_train_data_balanced, columns = features_train_selection)\n",
    "x_best_2 = x_train_data_balanced_pre[selectK_values_maintained]\n",
    "y_best_2 = y_train_data_balanced\n",
    "test_best_2 = y_val\n",
    "test_best_3 = x_val[selectK_values_maintained]\n",
    "    \n",
    "# Naive Bayes with Balanced Data - - Best Features\n",
    "clf_balanced_GaussianNB_best = GaussianNB()\n",
    "clf_balanced_GaussianNB_best.fit(x_best_2,y_best_2)\n",
    "y_predict_GaussianNB_best = clf_balanced_GaussianNB_best.predict(test_best_3)\n",
    "y_true_GaussianNB_best = test_best_2"
   ]
  },
  {
   "cell_type": "code",
   "execution_count": 149,
   "metadata": {},
   "outputs": [
    {
     "name": "stdout",
     "output_type": "stream",
     "text": [
      "             precision    recall  f1-score   support\n",
      "\n",
      "          0       0.96      0.61      0.75     11896\n",
      "          1       0.06      0.52      0.11       598\n",
      "\n",
      "avg / total       0.92      0.61      0.72     12494\n",
      "\n"
     ]
    }
   ],
   "source": [
    "# Evaluation of GaussianNB with Balanced Data - Best Features\n",
    "print (classification_report(y_true_GaussianNB_best, y_predict_GaussianNB_best))"
   ]
  },
  {
   "cell_type": "code",
   "execution_count": 150,
   "metadata": {},
   "outputs": [
    {
     "name": "stdout",
     "output_type": "stream",
     "text": [
      "Confusion Matrix for GaussianNB with Balanced Data - Best Features:\n",
      "[[7263 4633]\n",
      " [ 286  312]]\n"
     ]
    }
   ],
   "source": [
    "print (\"Confusion Matrix for GaussianNB with Balanced Data - Best Features:\")\n",
    "print(confusion_matrix(y_true_GaussianNB_best, y_predict_GaussianNB_best))"
   ]
  },
  {
   "cell_type": "code",
   "execution_count": 151,
   "metadata": {},
   "outputs": [
    {
     "name": "stdout",
     "output_type": "stream",
     "text": [
      "AUC score for GaussianNB with Balanced Data - Best Features:\n",
      "0.566140244437\n"
     ]
    }
   ],
   "source": [
    "print (\"AUC score for GaussianNB with Balanced Data - Best Features:\")\n",
    "print(roc_auc_score(y_true_GaussianNB_best, y_predict_GaussianNB_best))"
   ]
  },
  {
   "cell_type": "markdown",
   "metadata": {},
   "source": [
    "## Support Vector Machine with Balanced Data and Best Features"
   ]
  },
  {
   "cell_type": "code",
   "execution_count": 152,
   "metadata": {
    "collapsed": true
   },
   "outputs": [],
   "source": [
    "# Support Vector Machine with Balanced Data - - Best Features\n",
    "clf_balanced_SVC_best = SVC(max_iter = 100,random_state=0)\n",
    "clf_balanced_SVC_best.fit(x_best_2,y_best_2)\n",
    "y_predict_SVC_best = clf_balanced_SVC_best.predict(test_best_3)\n",
    "y_true_SVC_best = test_best_2"
   ]
  },
  {
   "cell_type": "code",
   "execution_count": 153,
   "metadata": {},
   "outputs": [
    {
     "name": "stdout",
     "output_type": "stream",
     "text": [
      "             precision    recall  f1-score   support\n",
      "\n",
      "          0       0.95      0.78      0.86     11896\n",
      "          1       0.03      0.15      0.06       598\n",
      "\n",
      "avg / total       0.90      0.75      0.82     12494\n",
      "\n"
     ]
    }
   ],
   "source": [
    "# Evaluation of SVC with Balanced Data - Best Features\n",
    "print (classification_report(y_true_SVC_best, y_predict_SVC_best))"
   ]
  },
  {
   "cell_type": "code",
   "execution_count": 154,
   "metadata": {},
   "outputs": [
    {
     "name": "stdout",
     "output_type": "stream",
     "text": [
      "Confusion Matrix for SVC with Balanced Data - Best Features:\n",
      "[[9338 2558]\n",
      " [ 508   90]]\n"
     ]
    }
   ],
   "source": [
    "print (\"Confusion Matrix for SVC with Balanced Data - Best Features:\")\n",
    "print(confusion_matrix(y_true_SVC_best, y_predict_SVC_best))"
   ]
  },
  {
   "cell_type": "code",
   "execution_count": 155,
   "metadata": {},
   "outputs": [
    {
     "name": "stdout",
     "output_type": "stream",
     "text": [
      "AUC score for SVC with Balanced Data - Best Features:\n",
      "0.467735704984\n"
     ]
    }
   ],
   "source": [
    "print (\"AUC score for SVC with Balanced Data - Best Features:\")\n",
    "print(roc_auc_score(y_true_SVC_best, y_predict_SVC_best))"
   ]
  },
  {
   "cell_type": "markdown",
   "metadata": {},
   "source": [
    "## Linear Model with Balanced Data and Best Features"
   ]
  },
  {
   "cell_type": "code",
   "execution_count": 156,
   "metadata": {
    "collapsed": true
   },
   "outputs": [],
   "source": [
    "# Linear Model with Balanced Data - Best Features\n",
    "clf_balanced_SGDClassifier_best = SGDClassifier(max_iter=5,random_state=0)\n",
    "clf_balanced_SGDClassifier_best.fit(x_best_2,y_best_2)\n",
    "y_predict_SGDClassifier_best = clf_balanced_SGDClassifier_best.predict(test_best_3)\n",
    "y_true_SGDClassifier_best = test_best_2"
   ]
  },
  {
   "cell_type": "code",
   "execution_count": 157,
   "metadata": {},
   "outputs": [
    {
     "name": "stdout",
     "output_type": "stream",
     "text": [
      "             precision    recall  f1-score   support\n",
      "\n",
      "          0       0.96      0.20      0.33     11896\n",
      "          1       0.05      0.85      0.10       598\n",
      "\n",
      "avg / total       0.92      0.23      0.32     12494\n",
      "\n"
     ]
    }
   ],
   "source": [
    "# Evaluation of Linear Model with Balanced Data - Best Features\n",
    "print (classification_report(y_true_SGDClassifier_best, y_predict_SGDClassifier_best))"
   ]
  },
  {
   "cell_type": "code",
   "execution_count": 158,
   "metadata": {},
   "outputs": [
    {
     "name": "stdout",
     "output_type": "stream",
     "text": [
      "Confusion Matrix for SGDClassifier with Balanced Data - Best Features:\n",
      "[[2347 9549]\n",
      " [  90  508]]\n"
     ]
    }
   ],
   "source": [
    "print (\"Confusion Matrix for SGDClassifier with Balanced Data - Best Features:\")\n",
    "print(confusion_matrix(y_true_SGDClassifier_best, y_predict_SGDClassifier_best))"
   ]
  },
  {
   "cell_type": "code",
   "execution_count": 159,
   "metadata": {},
   "outputs": [
    {
     "name": "stdout",
     "output_type": "stream",
     "text": [
      "AUC score for SGDClassifier with Balanced Data - Best Features:\n",
      "0.52339576778\n"
     ]
    }
   ],
   "source": [
    "print (\"AUC score for SGDClassifier with Balanced Data - Best Features:\")\n",
    "print(roc_auc_score(y_true_SGDClassifier_best, y_predict_SGDClassifier_best))"
   ]
  },
  {
   "cell_type": "markdown",
   "metadata": {},
   "source": [
    "## Random Forest with Balanced Data and Best Features"
   ]
  },
  {
   "cell_type": "code",
   "execution_count": 160,
   "metadata": {
    "collapsed": true
   },
   "outputs": [],
   "source": [
    "# Random Forest with Balanced Data - Best Features\n",
    "clf_balanced_RandomForestClassifier_best = RandomForestClassifier(random_state=0)\n",
    "clf_balanced_RandomForestClassifier_best.fit(x_best_2,y_best_2)\n",
    "y_predict_RandomForestClassifier_best = clf_balanced_RandomForestClassifier_best.predict(test_best_3)\n",
    "y_true_RandomForestClassifier_best = test_best_2"
   ]
  },
  {
   "cell_type": "code",
   "execution_count": 161,
   "metadata": {},
   "outputs": [
    {
     "name": "stdout",
     "output_type": "stream",
     "text": [
      "             precision    recall  f1-score   support\n",
      "\n",
      "          0       0.95      1.00      0.97     11896\n",
      "          1       0.03      0.00      0.00       598\n",
      "\n",
      "avg / total       0.91      0.95      0.93     12494\n",
      "\n"
     ]
    }
   ],
   "source": [
    "# Evaluation of Random Forest with Balanced Data - Best Features\n",
    "print (classification_report(y_true_RandomForestClassifier_best, y_predict_RandomForestClassifier_best))"
   ]
  },
  {
   "cell_type": "code",
   "execution_count": 162,
   "metadata": {},
   "outputs": [
    {
     "name": "stdout",
     "output_type": "stream",
     "text": [
      "Confusion Matrix for RandomForestClassifier with Balanced Data - Best Features:\n",
      "[[11860    36]\n",
      " [  597     1]]\n"
     ]
    }
   ],
   "source": [
    "print (\"Confusion Matrix for RandomForestClassifier with Balanced Data - Best Features:\")\n",
    "print(confusion_matrix(y_true_RandomForestClassifier_best, y_predict_RandomForestClassifier_best))"
   ]
  },
  {
   "cell_type": "code",
   "execution_count": 163,
   "metadata": {},
   "outputs": [
    {
     "name": "stdout",
     "output_type": "stream",
     "text": [
      "AUC score for RandomForestClassifier with Balanced Data - Best Features:\n",
      "0.49932300675\n"
     ]
    }
   ],
   "source": [
    "print (\"AUC score for RandomForestClassifier with Balanced Data - Best Features:\")\n",
    "print(roc_auc_score(y_true_RandomForestClassifier_best, y_predict_RandomForestClassifier_best))"
   ]
  }
 ],
 "metadata": {
  "kernelspec": {
   "display_name": "Python 2",
   "language": "python",
   "name": "python2"
  },
  "language_info": {
   "codemirror_mode": {
    "name": "ipython",
    "version": 2
   },
   "file_extension": ".py",
   "mimetype": "text/x-python",
   "name": "python",
   "nbconvert_exporter": "python",
   "pygments_lexer": "ipython2",
   "version": "2.7.14"
  }
 },
 "nbformat": 4,
 "nbformat_minor": 2
}
